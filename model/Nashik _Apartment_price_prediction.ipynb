{
 "cells": [
  {
   "cell_type": "code",
   "execution_count": 1,
   "metadata": {
    "execution": {
     "iopub.execute_input": "2023-01-08T14:22:46.335Z",
     "iopub.status.busy": "2023-01-08T14:22:46.303Z",
     "shell.execute_reply": "2023-01-08T14:22:45.183Z"
    },
    "id": "DwZfLdX4-FPc",
    "vscode": {
     "languageId": "javascript"
    }
   },
   "outputs": [],
   "source": [
    "import pandas as pd\n",
    "import numpy as np\n",
    "from matplotlib import pyplot as plt\n",
    "%matplotlib inline\n",
    "from sklearn import tree\n",
    "import matplotlib\n",
    "matplotlib.rcParams[\"figure.figsize\"] = (20,10)"
   ]
  },
  {
   "cell_type": "code",
   "execution_count": 2,
   "metadata": {
    "colab": {
     "base_uri": "https://localhost:8080/",
     "height": 354
    },
    "id": "-wBY1NebAHPH",
    "outputId": "f89791fc-7671-47b1-861a-27181053ad0e",
    "vscode": {
     "languageId": "javascript"
    }
   },
   "outputs": [
    {
     "data": {
      "text/html": [
       "<div>\n",
       "<style scoped>\n",
       "    .dataframe tbody tr th:only-of-type {\n",
       "        vertical-align: middle;\n",
       "    }\n",
       "\n",
       "    .dataframe tbody tr th {\n",
       "        vertical-align: top;\n",
       "    }\n",
       "\n",
       "    .dataframe thead th {\n",
       "        text-align: right;\n",
       "    }\n",
       "</style>\n",
       "<table border=\"1\" class=\"dataframe\">\n",
       "  <thead>\n",
       "    <tr style=\"text-align: right;\">\n",
       "      <th></th>\n",
       "      <th>Unnamed: 0</th>\n",
       "      <th>address</th>\n",
       "      <th>owners</th>\n",
       "      <th>housetype</th>\n",
       "      <th>house_condition</th>\n",
       "      <th>BHK</th>\n",
       "      <th>price</th>\n",
       "      <th>per_month_emi</th>\n",
       "      <th>total_sqft</th>\n",
       "      <th>cordinates</th>\n",
       "      <th>latitude</th>\n",
       "      <th>longitude</th>\n",
       "    </tr>\n",
       "  </thead>\n",
       "  <tbody>\n",
       "    <tr>\n",
       "      <th>0</th>\n",
       "      <td>0</td>\n",
       "      <td>Sheetal Vihar, Bhagwant Nagar, Dr.Homi Bhabha ...</td>\n",
       "      <td>Mahendra Kotwal</td>\n",
       "      <td>Apartment</td>\n",
       "      <td>old</td>\n",
       "      <td>3.0</td>\n",
       "      <td>75.00</td>\n",
       "      <td>39.72</td>\n",
       "      <td>1550.0</td>\n",
       "      <td>Sheetal Vihar</td>\n",
       "      <td>19.987960</td>\n",
       "      <td>73.787390</td>\n",
       "    </tr>\n",
       "    <tr>\n",
       "      <th>1</th>\n",
       "      <td>1</td>\n",
       "      <td>Samraat Dream Citi, Samta Nagar, Nashik</td>\n",
       "      <td>Jiten Dadarkar</td>\n",
       "      <td>Apartment</td>\n",
       "      <td>old</td>\n",
       "      <td>2.0</td>\n",
       "      <td>41.00</td>\n",
       "      <td>21.71</td>\n",
       "      <td>1000.0</td>\n",
       "      <td>Samraat Dream Citi</td>\n",
       "      <td>19.982460</td>\n",
       "      <td>73.811840</td>\n",
       "    </tr>\n",
       "    <tr>\n",
       "      <th>2</th>\n",
       "      <td>2</td>\n",
       "      <td>Suryaprakash Apartment,Nashik Road, Nashik</td>\n",
       "      <td>Pankaj</td>\n",
       "      <td>Apartment</td>\n",
       "      <td>old</td>\n",
       "      <td>2.0</td>\n",
       "      <td>53.35</td>\n",
       "      <td>28.25</td>\n",
       "      <td>970.0</td>\n",
       "      <td>Surya Prakash</td>\n",
       "      <td>19.975850</td>\n",
       "      <td>73.788750</td>\n",
       "    </tr>\n",
       "    <tr>\n",
       "      <th>3</th>\n",
       "      <td>3</td>\n",
       "      <td>Adishvar Residency,Nashik Road, Nashik</td>\n",
       "      <td>Saurav</td>\n",
       "      <td>Apartment</td>\n",
       "      <td>old</td>\n",
       "      <td>2.0</td>\n",
       "      <td>55.00</td>\n",
       "      <td>29.13</td>\n",
       "      <td>1000.0</td>\n",
       "      <td>Nashik Road, Vadner Dumala, Nashik, Maharashtr...</td>\n",
       "      <td>19.930532</td>\n",
       "      <td>73.811734</td>\n",
       "    </tr>\n",
       "    <tr>\n",
       "      <th>4</th>\n",
       "      <td>4</td>\n",
       "      <td>Nashik Road, Nashik</td>\n",
       "      <td>Vivek Pavanaskar</td>\n",
       "      <td>Apartment</td>\n",
       "      <td>old</td>\n",
       "      <td>2.0</td>\n",
       "      <td>27.00</td>\n",
       "      <td>14.30</td>\n",
       "      <td>853.0</td>\n",
       "      <td>Nashik Road, Nashik, Maharashtra</td>\n",
       "      <td>19.955310</td>\n",
       "      <td>73.840890</td>\n",
       "    </tr>\n",
       "  </tbody>\n",
       "</table>\n",
       "</div>"
      ],
      "text/plain": [
       "   Unnamed: 0                                            address  \\\n",
       "0           0  Sheetal Vihar, Bhagwant Nagar, Dr.Homi Bhabha ...   \n",
       "1           1            Samraat Dream Citi, Samta Nagar, Nashik   \n",
       "2           2         Suryaprakash Apartment,Nashik Road, Nashik   \n",
       "3           3             Adishvar Residency,Nashik Road, Nashik   \n",
       "4           4                                Nashik Road, Nashik   \n",
       "\n",
       "             owners  housetype house_condition  BHK  price  per_month_emi  \\\n",
       "0   Mahendra Kotwal  Apartment             old  3.0  75.00          39.72   \n",
       "1    Jiten Dadarkar  Apartment             old  2.0  41.00          21.71   \n",
       "2            Pankaj  Apartment             old  2.0  53.35          28.25   \n",
       "3            Saurav  Apartment             old  2.0  55.00          29.13   \n",
       "4  Vivek Pavanaskar  Apartment             old  2.0  27.00          14.30   \n",
       "\n",
       "   total_sqft                                         cordinates   latitude  \\\n",
       "0      1550.0                                      Sheetal Vihar  19.987960   \n",
       "1      1000.0                                 Samraat Dream Citi  19.982460   \n",
       "2       970.0                                      Surya Prakash  19.975850   \n",
       "3      1000.0  Nashik Road, Vadner Dumala, Nashik, Maharashtr...  19.930532   \n",
       "4       853.0                   Nashik Road, Nashik, Maharashtra  19.955310   \n",
       "\n",
       "   longitude  \n",
       "0  73.787390  \n",
       "1  73.811840  \n",
       "2  73.788750  \n",
       "3  73.811734  \n",
       "4  73.840890  "
      ]
     },
     "execution_count": 2,
     "metadata": {},
     "output_type": "execute_result"
    }
   ],
   "source": [
    "df1=pd.read_csv(r\"./final_data.csv\")\n",
    "df1.head()"
   ]
  },
  {
   "cell_type": "code",
   "execution_count": 3,
   "metadata": {
    "vscode": {
     "languageId": "javascript"
    }
   },
   "outputs": [
    {
     "data": {
      "text/plain": [
       "(5496, 12)"
      ]
     },
     "execution_count": 3,
     "metadata": {},
     "output_type": "execute_result"
    }
   ],
   "source": [
    "df1.shape"
   ]
  },
  {
   "cell_type": "code",
   "execution_count": 4,
   "metadata": {
    "vscode": {
     "languageId": "javascript"
    }
   },
   "outputs": [
    {
     "data": {
      "text/plain": [
       "Index(['Unnamed: 0', 'address', 'owners', 'housetype', 'house_condition',\n",
       "       'BHK', 'price', 'per_month_emi', 'total_sqft', 'cordinates', 'latitude',\n",
       "       'longitude'],\n",
       "      dtype='object')"
      ]
     },
     "execution_count": 4,
     "metadata": {},
     "output_type": "execute_result"
    }
   ],
   "source": [
    "df1.columns"
   ]
  },
  {
   "cell_type": "code",
   "execution_count": 5,
   "metadata": {
    "colab": {
     "base_uri": "https://localhost:8080/"
    },
    "id": "jSvr5_r4At-T",
    "outputId": "74480073-6b89-4107-ee7a-fdfaede79b5c",
    "vscode": {
     "languageId": "javascript"
    }
   },
   "outputs": [
    {
     "data": {
      "text/plain": [
       "housetype\n",
       "Apartment            4323\n",
       "Independent house    1173\n",
       "Name: housetype, dtype: int64"
      ]
     },
     "execution_count": 5,
     "metadata": {},
     "output_type": "execute_result"
    }
   ],
   "source": [
    "df1.groupby('housetype')['housetype'].agg('count')"
   ]
  },
  {
   "cell_type": "code",
   "execution_count": 6,
   "metadata": {
    "colab": {
     "base_uri": "https://localhost:8080/",
     "height": 337
    },
    "id": "szBHY3cvA6Ks",
    "outputId": "5e47dc5b-fad7-4261-fad2-8b81f2cddd8c",
    "vscode": {
     "languageId": "javascript"
    }
   },
   "outputs": [
    {
     "data": {
      "text/html": [
       "<div>\n",
       "<style scoped>\n",
       "    .dataframe tbody tr th:only-of-type {\n",
       "        vertical-align: middle;\n",
       "    }\n",
       "\n",
       "    .dataframe tbody tr th {\n",
       "        vertical-align: top;\n",
       "    }\n",
       "\n",
       "    .dataframe thead th {\n",
       "        text-align: right;\n",
       "    }\n",
       "</style>\n",
       "<table border=\"1\" class=\"dataframe\">\n",
       "  <thead>\n",
       "    <tr style=\"text-align: right;\">\n",
       "      <th></th>\n",
       "      <th>BHK</th>\n",
       "      <th>price</th>\n",
       "      <th>total_sqft</th>\n",
       "      <th>cordinates</th>\n",
       "    </tr>\n",
       "  </thead>\n",
       "  <tbody>\n",
       "    <tr>\n",
       "      <th>0</th>\n",
       "      <td>3.0</td>\n",
       "      <td>75.00</td>\n",
       "      <td>1550.0</td>\n",
       "      <td>Sheetal Vihar</td>\n",
       "    </tr>\n",
       "    <tr>\n",
       "      <th>1</th>\n",
       "      <td>2.0</td>\n",
       "      <td>41.00</td>\n",
       "      <td>1000.0</td>\n",
       "      <td>Samraat Dream Citi</td>\n",
       "    </tr>\n",
       "    <tr>\n",
       "      <th>2</th>\n",
       "      <td>2.0</td>\n",
       "      <td>53.35</td>\n",
       "      <td>970.0</td>\n",
       "      <td>Surya Prakash</td>\n",
       "    </tr>\n",
       "    <tr>\n",
       "      <th>3</th>\n",
       "      <td>2.0</td>\n",
       "      <td>55.00</td>\n",
       "      <td>1000.0</td>\n",
       "      <td>Nashik Road, Vadner Dumala, Nashik, Maharashtr...</td>\n",
       "    </tr>\n",
       "    <tr>\n",
       "      <th>4</th>\n",
       "      <td>2.0</td>\n",
       "      <td>27.00</td>\n",
       "      <td>853.0</td>\n",
       "      <td>Nashik Road, Nashik, Maharashtra</td>\n",
       "    </tr>\n",
       "  </tbody>\n",
       "</table>\n",
       "</div>"
      ],
      "text/plain": [
       "   BHK  price  total_sqft                                         cordinates\n",
       "0  3.0  75.00      1550.0                                      Sheetal Vihar\n",
       "1  2.0  41.00      1000.0                                 Samraat Dream Citi\n",
       "2  2.0  53.35       970.0                                      Surya Prakash\n",
       "3  2.0  55.00      1000.0  Nashik Road, Vadner Dumala, Nashik, Maharashtr...\n",
       "4  2.0  27.00       853.0                   Nashik Road, Nashik, Maharashtra"
      ]
     },
     "execution_count": 6,
     "metadata": {},
     "output_type": "execute_result"
    }
   ],
   "source": [
    "df2 = df1.drop(['Unnamed: 0','address','owners','housetype','house_condition','per_month_emi','latitude','longitude'],axis='columns')\n",
    "df2.head()"
   ]
  },
  {
   "cell_type": "code",
   "execution_count": 7,
   "metadata": {
    "colab": {
     "base_uri": "https://localhost:8080/"
    },
    "id": "P3jaQa7rB3P8",
    "outputId": "fc0f52b0-d82e-4e15-df59-6f6b15f29c06",
    "vscode": {
     "languageId": "javascript"
    }
   },
   "outputs": [
    {
     "data": {
      "text/plain": [
       "BHK            2.965793\n",
       "price         17.358079\n",
       "total_sqft    27.492722\n",
       "cordinates     0.000000\n",
       "dtype: float64"
      ]
     },
     "execution_count": 7,
     "metadata": {},
     "output_type": "execute_result"
    }
   ],
   "source": [
    "100*(df2.isnull().sum())/len(df2)"
   ]
  },
  {
   "cell_type": "code",
   "execution_count": 8,
   "metadata": {
    "colab": {
     "base_uri": "https://localhost:8080/"
    },
    "id": "DU2Qg2aDMzhC",
    "outputId": "92a1521a-291f-4f60-aa67-b2285c20e566",
    "vscode": {
     "languageId": "javascript"
    }
   },
   "outputs": [
    {
     "data": {
      "text/plain": [
       "(5496, 4)"
      ]
     },
     "execution_count": 8,
     "metadata": {},
     "output_type": "execute_result"
    }
   ],
   "source": [
    "df2.shape"
   ]
  },
  {
   "cell_type": "code",
   "execution_count": 9,
   "metadata": {
    "colab": {
     "base_uri": "https://localhost:8080/"
    },
    "id": "2-I-hOgrM63G",
    "outputId": "50291028-aa23-453d-9f3a-22ebb463d8d6",
    "vscode": {
     "languageId": "javascript"
    }
   },
   "outputs": [
    {
     "data": {
      "text/plain": [
       "BHK           0\n",
       "price         0\n",
       "total_sqft    0\n",
       "cordinates    0\n",
       "dtype: int64"
      ]
     },
     "execution_count": 9,
     "metadata": {},
     "output_type": "execute_result"
    }
   ],
   "source": [
    "df3=df2.dropna()\n",
    "df3.isnull().sum()"
   ]
  },
  {
   "cell_type": "code",
   "execution_count": 10,
   "metadata": {
    "colab": {
     "base_uri": "https://localhost:8080/"
    },
    "id": "ab8sqbi7NGPg",
    "outputId": "0e2768b8-eeb8-4b09-eab8-4ccce1ca3e49",
    "vscode": {
     "languageId": "javascript"
    }
   },
   "outputs": [
    {
     "data": {
      "text/plain": [
       "(3879, 4)"
      ]
     },
     "execution_count": 10,
     "metadata": {},
     "output_type": "execute_result"
    }
   ],
   "source": [
    "df3.shape"
   ]
  },
  {
   "cell_type": "code",
   "execution_count": 11,
   "metadata": {
    "vscode": {
     "languageId": "javascript"
    }
   },
   "outputs": [
    {
     "name": "stderr",
     "output_type": "stream",
     "text": [
      "C:\\Users\\BHUPESH P S\\AppData\\Local\\Temp\\ipykernel_9840\\4283504799.py:1: SettingWithCopyWarning: \n",
      "A value is trying to be set on a copy of a slice from a DataFrame\n",
      "\n",
      "See the caveats in the documentation: https://pandas.pydata.org/pandas-docs/stable/user_guide/indexing.html#returning-a-view-versus-a-copy\n",
      "  df3.rename(columns = {'BHK':'bhk','cordinates':'location'},inplace =True)\n"
     ]
    }
   ],
   "source": [
    "df3.rename(columns = {'BHK':'bhk','cordinates':'location'},inplace =True)"
   ]
  },
  {
   "cell_type": "code",
   "execution_count": 12,
   "metadata": {
    "colab": {
     "base_uri": "https://localhost:8080/"
    },
    "id": "vw2B0C9xNPFI",
    "outputId": "e87c16f2-85d4-44b6-c24a-d4f2260b8847",
    "vscode": {
     "languageId": "javascript"
    }
   },
   "outputs": [
    {
     "data": {
      "text/plain": [
       "array([ 3. ,  2. ,  1. ,  4. ,  6. ,  2.5,  5. ,  7. , 10. ,  8. ])"
      ]
     },
     "execution_count": 12,
     "metadata": {},
     "output_type": "execute_result"
    }
   ],
   "source": [
    "df3['bhk'].unique()"
   ]
  },
  {
   "cell_type": "code",
   "execution_count": 13,
   "metadata": {
    "colab": {
     "base_uri": "https://localhost:8080/",
     "height": 354
    },
    "id": "X7kD3KayO7yt",
    "outputId": "8d28c712-3e27-4ebf-e07e-db2350572889",
    "vscode": {
     "languageId": "javascript"
    }
   },
   "outputs": [
    {
     "data": {
      "text/html": [
       "<div>\n",
       "<style scoped>\n",
       "    .dataframe tbody tr th:only-of-type {\n",
       "        vertical-align: middle;\n",
       "    }\n",
       "\n",
       "    .dataframe tbody tr th {\n",
       "        vertical-align: top;\n",
       "    }\n",
       "\n",
       "    .dataframe thead th {\n",
       "        text-align: right;\n",
       "    }\n",
       "</style>\n",
       "<table border=\"1\" class=\"dataframe\">\n",
       "  <thead>\n",
       "    <tr style=\"text-align: right;\">\n",
       "      <th></th>\n",
       "      <th>bhk</th>\n",
       "      <th>price</th>\n",
       "      <th>total_sqft</th>\n",
       "      <th>location</th>\n",
       "    </tr>\n",
       "  </thead>\n",
       "  <tbody>\n",
       "    <tr>\n",
       "      <th>0</th>\n",
       "      <td>3.0</td>\n",
       "      <td>75.00</td>\n",
       "      <td>1550.0</td>\n",
       "      <td>Sheetal Vihar</td>\n",
       "    </tr>\n",
       "    <tr>\n",
       "      <th>1</th>\n",
       "      <td>2.0</td>\n",
       "      <td>41.00</td>\n",
       "      <td>1000.0</td>\n",
       "      <td>Samraat Dream Citi</td>\n",
       "    </tr>\n",
       "    <tr>\n",
       "      <th>2</th>\n",
       "      <td>2.0</td>\n",
       "      <td>53.35</td>\n",
       "      <td>970.0</td>\n",
       "      <td>Surya Prakash</td>\n",
       "    </tr>\n",
       "    <tr>\n",
       "      <th>3</th>\n",
       "      <td>2.0</td>\n",
       "      <td>55.00</td>\n",
       "      <td>1000.0</td>\n",
       "      <td>Nashik Road, Vadner Dumala, Nashik, Maharashtr...</td>\n",
       "    </tr>\n",
       "    <tr>\n",
       "      <th>4</th>\n",
       "      <td>2.0</td>\n",
       "      <td>27.00</td>\n",
       "      <td>853.0</td>\n",
       "      <td>Nashik Road, Nashik, Maharashtra</td>\n",
       "    </tr>\n",
       "  </tbody>\n",
       "</table>\n",
       "</div>"
      ],
      "text/plain": [
       "   bhk  price  total_sqft                                           location\n",
       "0  3.0  75.00      1550.0                                      Sheetal Vihar\n",
       "1  2.0  41.00      1000.0                                 Samraat Dream Citi\n",
       "2  2.0  53.35       970.0                                      Surya Prakash\n",
       "3  2.0  55.00      1000.0  Nashik Road, Vadner Dumala, Nashik, Maharashtr...\n",
       "4  2.0  27.00       853.0                   Nashik Road, Nashik, Maharashtra"
      ]
     },
     "execution_count": 13,
     "metadata": {},
     "output_type": "execute_result"
    }
   ],
   "source": [
    "df4=df3.copy()\n",
    "df4=df4[df4.total_sqft.notnull()]\n",
    "df4.head()"
   ]
  },
  {
   "cell_type": "code",
   "execution_count": 14,
   "metadata": {
    "vscode": {
     "languageId": "javascript"
    }
   },
   "outputs": [
    {
     "data": {
      "text/html": [
       "<div>\n",
       "<style scoped>\n",
       "    .dataframe tbody tr th:only-of-type {\n",
       "        vertical-align: middle;\n",
       "    }\n",
       "\n",
       "    .dataframe tbody tr th {\n",
       "        vertical-align: top;\n",
       "    }\n",
       "\n",
       "    .dataframe thead th {\n",
       "        text-align: right;\n",
       "    }\n",
       "</style>\n",
       "<table border=\"1\" class=\"dataframe\">\n",
       "  <thead>\n",
       "    <tr style=\"text-align: right;\">\n",
       "      <th></th>\n",
       "      <th>bhk</th>\n",
       "      <th>price</th>\n",
       "      <th>total_sqft</th>\n",
       "      <th>location</th>\n",
       "      <th>price_per_sqft</th>\n",
       "    </tr>\n",
       "  </thead>\n",
       "  <tbody>\n",
       "    <tr>\n",
       "      <th>0</th>\n",
       "      <td>3.0</td>\n",
       "      <td>75.00</td>\n",
       "      <td>1550.0</td>\n",
       "      <td>Sheetal Vihar</td>\n",
       "      <td>483.870968</td>\n",
       "    </tr>\n",
       "    <tr>\n",
       "      <th>1</th>\n",
       "      <td>2.0</td>\n",
       "      <td>41.00</td>\n",
       "      <td>1000.0</td>\n",
       "      <td>Samraat Dream Citi</td>\n",
       "      <td>410.000000</td>\n",
       "    </tr>\n",
       "    <tr>\n",
       "      <th>2</th>\n",
       "      <td>2.0</td>\n",
       "      <td>53.35</td>\n",
       "      <td>970.0</td>\n",
       "      <td>Surya Prakash</td>\n",
       "      <td>550.000000</td>\n",
       "    </tr>\n",
       "    <tr>\n",
       "      <th>3</th>\n",
       "      <td>2.0</td>\n",
       "      <td>55.00</td>\n",
       "      <td>1000.0</td>\n",
       "      <td>Nashik Road, Vadner Dumala, Nashik, Maharashtr...</td>\n",
       "      <td>550.000000</td>\n",
       "    </tr>\n",
       "    <tr>\n",
       "      <th>4</th>\n",
       "      <td>2.0</td>\n",
       "      <td>27.00</td>\n",
       "      <td>853.0</td>\n",
       "      <td>Nashik Road, Nashik, Maharashtra</td>\n",
       "      <td>316.529894</td>\n",
       "    </tr>\n",
       "  </tbody>\n",
       "</table>\n",
       "</div>"
      ],
      "text/plain": [
       "   bhk  price  total_sqft                                           location  \\\n",
       "0  3.0  75.00      1550.0                                      Sheetal Vihar   \n",
       "1  2.0  41.00      1000.0                                 Samraat Dream Citi   \n",
       "2  2.0  53.35       970.0                                      Surya Prakash   \n",
       "3  2.0  55.00      1000.0  Nashik Road, Vadner Dumala, Nashik, Maharashtr...   \n",
       "4  2.0  27.00       853.0                   Nashik Road, Nashik, Maharashtra   \n",
       "\n",
       "   price_per_sqft  \n",
       "0      483.870968  \n",
       "1      410.000000  \n",
       "2      550.000000  \n",
       "3      550.000000  \n",
       "4      316.529894  "
      ]
     },
     "execution_count": 14,
     "metadata": {},
     "output_type": "execute_result"
    }
   ],
   "source": [
    "df5 = df4.copy()\n",
    "df5['price_per_sqft'] = df5['price']*10000/df5['total_sqft']\n",
    "df5.head()"
   ]
  },
  {
   "cell_type": "code",
   "execution_count": 15,
   "metadata": {
    "vscode": {
     "languageId": "javascript"
    }
   },
   "outputs": [
    {
     "data": {
      "text/plain": [
       "count    3879.000000\n",
       "mean      379.629635\n",
       "std       232.680293\n",
       "min         8.000000\n",
       "25%       285.714286\n",
       "50%       352.000000\n",
       "75%       433.333333\n",
       "max      8518.518519\n",
       "Name: price_per_sqft, dtype: float64"
      ]
     },
     "execution_count": 15,
     "metadata": {},
     "output_type": "execute_result"
    }
   ],
   "source": [
    "df5_stats = df5['price_per_sqft'].describe()\n",
    "df5_stats"
   ]
  },
  {
   "cell_type": "code",
   "execution_count": 16,
   "metadata": {
    "vscode": {
     "languageId": "javascript"
    }
   },
   "outputs": [],
   "source": [
    "df5.to_csv(\"bhp.csv\",index=False)"
   ]
  },
  {
   "cell_type": "code",
   "execution_count": 17,
   "metadata": {
    "colab": {
     "base_uri": "https://localhost:8080/"
    },
    "id": "a7ZggD2zPGeo",
    "outputId": "83f24ed2-a531-4fe0-ee30-dd089a7658ad",
    "vscode": {
     "languageId": "javascript"
    }
   },
   "outputs": [
    {
     "data": {
      "text/plain": [
       "595"
      ]
     },
     "execution_count": 17,
     "metadata": {},
     "output_type": "execute_result"
    }
   ],
   "source": [
    "len(df5.location.unique())\n"
   ]
  },
  {
   "cell_type": "code",
   "execution_count": 18,
   "metadata": {
    "colab": {
     "base_uri": "https://localhost:8080/"
    },
    "id": "SyNBtsVsRsBh",
    "outputId": "27135926-eee8-448d-8844-12d039b08729",
    "vscode": {
     "languageId": "javascript"
    }
   },
   "outputs": [
    {
     "data": {
      "text/plain": [
       "Nashik Road, Nashik, Maharashtra                                264\n",
       "Kala Nagar, Indira Nagar, Nashik, Maharashtra                   124\n",
       "Damodar Nagar, Pathardi Phata, Nashik, Maharashtra              124\n",
       "Panchavati, Nashik, Maharashtra                                  86\n",
       "Anand Vihar Colony, Veer Savarkar Nagar, Nashik, Maharashtra     83\n",
       "                                                               ... \n",
       "Supar Residency                                                   1\n",
       "Amrut Society                                                     1\n",
       "Al Amin Co-Operative Housing Society                              1\n",
       "Nashik Road, Devlali, Nashik, Maharashtra, 422401                 1\n",
       "Shree Kalaram Mandir                                              1\n",
       "Name: location, Length: 595, dtype: int64"
      ]
     },
     "execution_count": 18,
     "metadata": {},
     "output_type": "execute_result"
    }
   ],
   "source": [
    "df5.location = df5.location.apply(lambda x: x.strip())\n",
    "location_stats = df5['location'].value_counts(ascending=False)\n",
    "location_stats"
   ]
  },
  {
   "cell_type": "code",
   "execution_count": 19,
   "metadata": {
    "vscode": {
     "languageId": "javascript"
    }
   },
   "outputs": [
    {
     "data": {
      "text/plain": [
       "3879"
      ]
     },
     "execution_count": 19,
     "metadata": {},
     "output_type": "execute_result"
    }
   ],
   "source": [
    "location_stats.values.sum()"
   ]
  },
  {
   "cell_type": "code",
   "execution_count": 20,
   "metadata": {
    "vscode": {
     "languageId": "javascript"
    }
   },
   "outputs": [
    {
     "data": {
      "text/plain": [
       "595"
      ]
     },
     "execution_count": 20,
     "metadata": {},
     "output_type": "execute_result"
    }
   ],
   "source": [
    "len(location_stats)"
   ]
  },
  {
   "cell_type": "code",
   "execution_count": 21,
   "metadata": {},
   "outputs": [
    {
     "data": {
      "text/plain": [
       "79"
      ]
     },
     "execution_count": 21,
     "metadata": {},
     "output_type": "execute_result"
    }
   ],
   "source": [
    "len(location_stats[location_stats>10])"
   ]
  },
  {
   "cell_type": "code",
   "execution_count": 22,
   "metadata": {
    "colab": {
     "base_uri": "https://localhost:8080/"
    },
    "id": "poemj2YXSpR5",
    "outputId": "67c4d545-e0f3-49f7-b721-dd5a72b4920b",
    "vscode": {
     "languageId": "javascript"
    }
   },
   "outputs": [
    {
     "data": {
      "text/plain": [
       "516"
      ]
     },
     "execution_count": 22,
     "metadata": {},
     "output_type": "execute_result"
    }
   ],
   "source": [
    "len(location_stats[location_stats<=10])"
   ]
  },
  {
   "cell_type": "code",
   "execution_count": 23,
   "metadata": {
    "colab": {
     "base_uri": "https://localhost:8080/"
    },
    "id": "11lzNwV6TNBW",
    "outputId": "c0b10679-096e-41b3-82ec-cf6b7373f4c0",
    "vscode": {
     "languageId": "javascript"
    }
   },
   "outputs": [
    {
     "data": {
      "text/plain": [
       "Bhagwant Nagar, Dr Homi Bhabha Nagar, Nashik, Maharashtra    10\n",
       "DGP Nagar, Ambad, Nashik, Maharashtra                        10\n",
       "Khutwad Nagar, Cidco, Nashik, Maharashtra                    10\n",
       "Saptashrungi Nagar, Nashik, Maharashtra                      10\n",
       "Om Nagar, Dasak, Nashik, Maharashtra                         10\n",
       "                                                             ..\n",
       "Supar Residency                                               1\n",
       "Amrut Society                                                 1\n",
       "Al Amin Co-Operative Housing Society                          1\n",
       "Nashik Road, Devlali, Nashik, Maharashtra, 422401             1\n",
       "Shree Kalaram Mandir                                          1\n",
       "Name: location, Length: 516, dtype: int64"
      ]
     },
     "execution_count": 23,
     "metadata": {},
     "output_type": "execute_result"
    }
   ],
   "source": [
    "location_stats_less_than_10 = location_stats[location_stats<=10]\n",
    "location_stats_less_than_10"
   ]
  },
  {
   "cell_type": "code",
   "execution_count": 24,
   "metadata": {
    "colab": {
     "base_uri": "https://localhost:8080/"
    },
    "id": "lSzX1TF2Tgym",
    "outputId": "04fdcb52-9ba8-4663-c364-0ab212b78ca3",
    "vscode": {
     "languageId": "javascript"
    }
   },
   "outputs": [
    {
     "data": {
      "text/plain": [
       "80"
      ]
     },
     "execution_count": 24,
     "metadata": {},
     "output_type": "execute_result"
    }
   ],
   "source": [
    "df5.location=df5.location.apply(lambda x: 'other' if x in location_stats_less_than_10 else x)\n",
    "len(df5.location.unique())"
   ]
  },
  {
   "cell_type": "code",
   "execution_count": 25,
   "metadata": {
    "colab": {
     "base_uri": "https://localhost:8080/",
     "height": 354
    },
    "id": "8SfBt8SJUWed",
    "outputId": "b9980c87-ba81-40d0-ad56-bb01b83f612d",
    "vscode": {
     "languageId": "javascript"
    }
   },
   "outputs": [
    {
     "data": {
      "text/html": [
       "<div>\n",
       "<style scoped>\n",
       "    .dataframe tbody tr th:only-of-type {\n",
       "        vertical-align: middle;\n",
       "    }\n",
       "\n",
       "    .dataframe tbody tr th {\n",
       "        vertical-align: top;\n",
       "    }\n",
       "\n",
       "    .dataframe thead th {\n",
       "        text-align: right;\n",
       "    }\n",
       "</style>\n",
       "<table border=\"1\" class=\"dataframe\">\n",
       "  <thead>\n",
       "    <tr style=\"text-align: right;\">\n",
       "      <th></th>\n",
       "      <th>bhk</th>\n",
       "      <th>price</th>\n",
       "      <th>total_sqft</th>\n",
       "      <th>location</th>\n",
       "      <th>price_per_sqft</th>\n",
       "    </tr>\n",
       "  </thead>\n",
       "  <tbody>\n",
       "    <tr>\n",
       "      <th>0</th>\n",
       "      <td>3.0</td>\n",
       "      <td>75.00</td>\n",
       "      <td>1550.0</td>\n",
       "      <td>other</td>\n",
       "      <td>483.870968</td>\n",
       "    </tr>\n",
       "    <tr>\n",
       "      <th>1</th>\n",
       "      <td>2.0</td>\n",
       "      <td>41.00</td>\n",
       "      <td>1000.0</td>\n",
       "      <td>other</td>\n",
       "      <td>410.000000</td>\n",
       "    </tr>\n",
       "    <tr>\n",
       "      <th>2</th>\n",
       "      <td>2.0</td>\n",
       "      <td>53.35</td>\n",
       "      <td>970.0</td>\n",
       "      <td>other</td>\n",
       "      <td>550.000000</td>\n",
       "    </tr>\n",
       "    <tr>\n",
       "      <th>3</th>\n",
       "      <td>2.0</td>\n",
       "      <td>55.00</td>\n",
       "      <td>1000.0</td>\n",
       "      <td>Nashik Road, Vadner Dumala, Nashik, Maharashtr...</td>\n",
       "      <td>550.000000</td>\n",
       "    </tr>\n",
       "    <tr>\n",
       "      <th>4</th>\n",
       "      <td>2.0</td>\n",
       "      <td>27.00</td>\n",
       "      <td>853.0</td>\n",
       "      <td>Nashik Road, Nashik, Maharashtra</td>\n",
       "      <td>316.529894</td>\n",
       "    </tr>\n",
       "    <tr>\n",
       "      <th>5</th>\n",
       "      <td>2.0</td>\n",
       "      <td>42.00</td>\n",
       "      <td>1050.0</td>\n",
       "      <td>other</td>\n",
       "      <td>400.000000</td>\n",
       "    </tr>\n",
       "    <tr>\n",
       "      <th>6</th>\n",
       "      <td>2.0</td>\n",
       "      <td>35.50</td>\n",
       "      <td>1035.0</td>\n",
       "      <td>other</td>\n",
       "      <td>342.995169</td>\n",
       "    </tr>\n",
       "    <tr>\n",
       "      <th>7</th>\n",
       "      <td>3.0</td>\n",
       "      <td>48.00</td>\n",
       "      <td>1375.0</td>\n",
       "      <td>other</td>\n",
       "      <td>349.090909</td>\n",
       "    </tr>\n",
       "    <tr>\n",
       "      <th>8</th>\n",
       "      <td>2.0</td>\n",
       "      <td>32.00</td>\n",
       "      <td>850.0</td>\n",
       "      <td>other</td>\n",
       "      <td>376.470588</td>\n",
       "    </tr>\n",
       "    <tr>\n",
       "      <th>9</th>\n",
       "      <td>2.0</td>\n",
       "      <td>32.00</td>\n",
       "      <td>1020.0</td>\n",
       "      <td>other</td>\n",
       "      <td>313.725490</td>\n",
       "    </tr>\n",
       "  </tbody>\n",
       "</table>\n",
       "</div>"
      ],
      "text/plain": [
       "   bhk  price  total_sqft                                           location  \\\n",
       "0  3.0  75.00      1550.0                                              other   \n",
       "1  2.0  41.00      1000.0                                              other   \n",
       "2  2.0  53.35       970.0                                              other   \n",
       "3  2.0  55.00      1000.0  Nashik Road, Vadner Dumala, Nashik, Maharashtr...   \n",
       "4  2.0  27.00       853.0                   Nashik Road, Nashik, Maharashtra   \n",
       "5  2.0  42.00      1050.0                                              other   \n",
       "6  2.0  35.50      1035.0                                              other   \n",
       "7  3.0  48.00      1375.0                                              other   \n",
       "8  2.0  32.00       850.0                                              other   \n",
       "9  2.0  32.00      1020.0                                              other   \n",
       "\n",
       "   price_per_sqft  \n",
       "0      483.870968  \n",
       "1      410.000000  \n",
       "2      550.000000  \n",
       "3      550.000000  \n",
       "4      316.529894  \n",
       "5      400.000000  \n",
       "6      342.995169  \n",
       "7      349.090909  \n",
       "8      376.470588  \n",
       "9      313.725490  "
      ]
     },
     "execution_count": 25,
     "metadata": {},
     "output_type": "execute_result"
    }
   ],
   "source": [
    "df5.head(10)"
   ]
  },
  {
   "cell_type": "code",
   "execution_count": 26,
   "metadata": {
    "colab": {
     "base_uri": "https://localhost:8080/"
    },
    "id": "fBzYxQ2bVa_4",
    "outputId": "2e7ec316-9bb2-4171-d943-e6c440f148f0",
    "vscode": {
     "languageId": "javascript"
    }
   },
   "outputs": [
    {
     "data": {
      "text/plain": [
       "(3879, 5)"
      ]
     },
     "execution_count": 26,
     "metadata": {},
     "output_type": "execute_result"
    }
   ],
   "source": [
    "df5.shape"
   ]
  },
  {
   "cell_type": "code",
   "execution_count": 27,
   "metadata": {
    "colab": {
     "base_uri": "https://localhost:8080/"
    },
    "id": "atuTefqiVKQd",
    "outputId": "01117ef3-010b-4811-8860-6b29bc97c987",
    "vscode": {
     "languageId": "javascript"
    }
   },
   "outputs": [
    {
     "data": {
      "text/html": [
       "<div>\n",
       "<style scoped>\n",
       "    .dataframe tbody tr th:only-of-type {\n",
       "        vertical-align: middle;\n",
       "    }\n",
       "\n",
       "    .dataframe tbody tr th {\n",
       "        vertical-align: top;\n",
       "    }\n",
       "\n",
       "    .dataframe thead th {\n",
       "        text-align: right;\n",
       "    }\n",
       "</style>\n",
       "<table border=\"1\" class=\"dataframe\">\n",
       "  <thead>\n",
       "    <tr style=\"text-align: right;\">\n",
       "      <th></th>\n",
       "      <th>bhk</th>\n",
       "      <th>price</th>\n",
       "      <th>total_sqft</th>\n",
       "      <th>location</th>\n",
       "      <th>price_per_sqft</th>\n",
       "    </tr>\n",
       "  </thead>\n",
       "  <tbody>\n",
       "    <tr>\n",
       "      <th>0</th>\n",
       "      <td>3.0</td>\n",
       "      <td>75.00</td>\n",
       "      <td>1550.0</td>\n",
       "      <td>other</td>\n",
       "      <td>483.870968</td>\n",
       "    </tr>\n",
       "    <tr>\n",
       "      <th>1</th>\n",
       "      <td>2.0</td>\n",
       "      <td>41.00</td>\n",
       "      <td>1000.0</td>\n",
       "      <td>other</td>\n",
       "      <td>410.000000</td>\n",
       "    </tr>\n",
       "    <tr>\n",
       "      <th>2</th>\n",
       "      <td>2.0</td>\n",
       "      <td>53.35</td>\n",
       "      <td>970.0</td>\n",
       "      <td>other</td>\n",
       "      <td>550.000000</td>\n",
       "    </tr>\n",
       "    <tr>\n",
       "      <th>3</th>\n",
       "      <td>2.0</td>\n",
       "      <td>55.00</td>\n",
       "      <td>1000.0</td>\n",
       "      <td>Nashik Road, Vadner Dumala, Nashik, Maharashtr...</td>\n",
       "      <td>550.000000</td>\n",
       "    </tr>\n",
       "    <tr>\n",
       "      <th>4</th>\n",
       "      <td>2.0</td>\n",
       "      <td>27.00</td>\n",
       "      <td>853.0</td>\n",
       "      <td>Nashik Road, Nashik, Maharashtra</td>\n",
       "      <td>316.529894</td>\n",
       "    </tr>\n",
       "  </tbody>\n",
       "</table>\n",
       "</div>"
      ],
      "text/plain": [
       "   bhk  price  total_sqft                                           location  \\\n",
       "0  3.0  75.00      1550.0                                              other   \n",
       "1  2.0  41.00      1000.0                                              other   \n",
       "2  2.0  53.35       970.0                                              other   \n",
       "3  2.0  55.00      1000.0  Nashik Road, Vadner Dumala, Nashik, Maharashtr...   \n",
       "4  2.0  27.00       853.0                   Nashik Road, Nashik, Maharashtra   \n",
       "\n",
       "   price_per_sqft  \n",
       "0      483.870968  \n",
       "1      410.000000  \n",
       "2      550.000000  \n",
       "3      550.000000  \n",
       "4      316.529894  "
      ]
     },
     "execution_count": 27,
     "metadata": {},
     "output_type": "execute_result"
    }
   ],
   "source": [
    "df5[df5.total_sqft/df5.bhk<300]\n",
    "df5.head()"
   ]
  },
  {
   "cell_type": "code",
   "execution_count": 28,
   "metadata": {
    "vscode": {
     "languageId": "javascript"
    }
   },
   "outputs": [
    {
     "data": {
      "text/plain": [
       "(3879, 5)"
      ]
     },
     "execution_count": 28,
     "metadata": {},
     "output_type": "execute_result"
    }
   ],
   "source": [
    "df5.shape"
   ]
  },
  {
   "cell_type": "code",
   "execution_count": 29,
   "metadata": {
    "vscode": {
     "languageId": "javascript"
    }
   },
   "outputs": [
    {
     "data": {
      "text/plain": [
       "(3825, 5)"
      ]
     },
     "execution_count": 29,
     "metadata": {},
     "output_type": "execute_result"
    }
   ],
   "source": [
    "df6 = df5[~(df5.total_sqft/df5.bhk<300)]\n",
    "df6.shape"
   ]
  },
  {
   "cell_type": "code",
   "execution_count": 30,
   "metadata": {
    "colab": {
     "base_uri": "https://localhost:8080/"
    },
    "id": "reNlZWMfVgMu",
    "outputId": "760fe944-63d4-4f5c-82ec-e9158a9602d2",
    "vscode": {
     "languageId": "javascript"
    }
   },
   "outputs": [
    {
     "data": {
      "text/plain": [
       "count    3825.000000\n",
       "mean      373.346466\n",
       "std       177.536494\n",
       "min         8.000000\n",
       "25%       285.714286\n",
       "50%       351.351351\n",
       "75%       430.521739\n",
       "max      4361.370717\n",
       "Name: price_per_sqft, dtype: float64"
      ]
     },
     "execution_count": 30,
     "metadata": {},
     "output_type": "execute_result"
    }
   ],
   "source": [
    "df6.price_per_sqft.describe()"
   ]
  },
  {
   "cell_type": "code",
   "execution_count": 31,
   "metadata": {
    "colab": {
     "base_uri": "https://localhost:8080/"
    },
    "id": "JHqi4K4-WHrv",
    "outputId": "93755887-2d7a-4ae7-ff49-ae9de213c6dd",
    "vscode": {
     "languageId": "javascript"
    }
   },
   "outputs": [
    {
     "data": {
      "text/plain": [
       "(3053, 5)"
      ]
     },
     "execution_count": 31,
     "metadata": {},
     "output_type": "execute_result"
    }
   ],
   "source": [
    "def remove_pps_outliers(df):\n",
    "  df_out=pd.DataFrame()\n",
    "  for key, subdf in df.groupby('location'):\n",
    "    m=np.mean(subdf.price_per_sqft)\n",
    "    st=np.std(subdf.price_per_sqft)\n",
    "    reduced_df=subdf[(subdf.price_per_sqft>(m-st))&(subdf.price_per_sqft<=(m+st))]\n",
    "    df_out = pd.concat([df_out,reduced_df],ignore_index=True)\n",
    "  return df_out\n",
    "\n",
    "df7 = remove_pps_outliers(df6)\n",
    "df7.shape"
   ]
  },
  {
   "cell_type": "code",
   "execution_count": 32,
   "metadata": {
    "colab": {
     "base_uri": "https://localhost:8080/",
     "height": 621
    },
    "id": "CteqDLdbY8iG",
    "outputId": "102a687c-6baf-4b67-804e-992e764321f4",
    "vscode": {
     "languageId": "javascript"
    }
   },
   "outputs": [
    {
     "data": {
      "image/png": "[encoded data removed]",
      "text/plain": [
       "<Figure size 1500x1000 with 1 Axes>"
      ]
     },
     "metadata": {},
     "output_type": "display_data"
    }
   ],
   "source": [
    "def plot_scatter_chart(df, location):\n",
    "  bhk2 = df[(df.location==location)&(df.bhk==2.0)]\n",
    "  bhk3 = df[(df.location==location)&(df.bhk==3.0)]\n",
    "  matplotlib.rcParams['figure.figsize']=(15,10)\n",
    "  plt.scatter(bhk2.total_sqft,bhk2.price,color='blue',label='2 BHK',s=50)\n",
    "  plt.scatter(bhk3.total_sqft,bhk3.price,marker='+',color='green',label='3 BHK',s=50)\n",
    "  plt.xlabel(\"total sq ft area\")\n",
    "  plt.ylabel(\"price per sq ft\")\n",
    "  plt.title(location)\n",
    "  plt.legend()\n",
    "\n",
    "plot_scatter_chart(df7,\"Nashik Road, Nashik, Maharashtra\")\n"
   ]
  },
  {
   "cell_type": "code",
   "execution_count": 33,
   "metadata": {
    "colab": {
     "base_uri": "https://localhost:8080/"
    },
    "id": "joKiqB7Mbppk",
    "outputId": "01f0a8f1-bedf-43be-8c3a-cf1d85c33f95",
    "vscode": {
     "languageId": "javascript"
    }
   },
   "outputs": [
    {
     "data": {
      "text/plain": [
       "(2429, 5)"
      ]
     },
     "execution_count": 33,
     "metadata": {},
     "output_type": "execute_result"
    }
   ],
   "source": [
    "def remove_bhk_outliers(df):\n",
    "    exclude_indices = np.array([])\n",
    "    for location, location_df in df.groupby('location'):\n",
    "        bhk_stats = {}\n",
    "        for bhk, bhk_df in location_df.groupby('bhk'):\n",
    "            bhk_stats[bhk] = {\n",
    "                'mean': np.mean(bhk_df.price_per_sqft),\n",
    "                'std': np.std(bhk_df.price_per_sqft),\n",
    "                'count': bhk_df.shape[0]\n",
    "            }\n",
    "        for bhk, bhk_df in location_df.groupby('bhk'):\n",
    "            stats = bhk_stats.get(bhk-1)\n",
    "            if stats and stats['count']>5:\n",
    "                exclude_indices = np.append(exclude_indices, bhk_df[bhk_df.price_per_sqft<(stats['mean'])].index.values)\n",
    "    return df.drop(exclude_indices,axis='index')\n",
    "df8 = remove_bhk_outliers(df7)\n",
    "# df8 = df7.copy()\n",
    "df8.shape\n"
   ]
  },
  {
   "cell_type": "code",
   "execution_count": 34,
   "metadata": {
    "colab": {
     "base_uri": "https://localhost:8080/",
     "height": 621
    },
    "id": "clyzQUoDeaoD",
    "outputId": "eec63b0e-8d8d-4e01-a5b7-565bb3cad095",
    "vscode": {
     "languageId": "javascript"
    }
   },
   "outputs": [
    {
     "data": {
      "image/png": "[encoded data removed]",
      "text/plain": [
       "<Figure size 1500x1000 with 1 Axes>"
      ]
     },
     "metadata": {},
     "output_type": "display_data"
    }
   ],
   "source": [
    "plot_scatter_chart(df8, \"Nashik Road, Nashik, Maharashtra\")"
   ]
  },
  {
   "cell_type": "code",
   "execution_count": 35,
   "metadata": {
    "colab": {
     "base_uri": "https://localhost:8080/",
     "height": 566
    },
    "id": "QDhti-E1fBKu",
    "outputId": "72de76ee-d50e-4720-86bf-1484c0162955",
    "vscode": {
     "languageId": "javascript"
    }
   },
   "outputs": [
    {
     "data": {
      "text/plain": [
       "Text(0, 0.5, 'count')"
      ]
     },
     "execution_count": 35,
     "metadata": {},
     "output_type": "execute_result"
    },
    {
     "data": {
      "image/png": "[encoded data removed]",
      "text/plain": [
       "<Figure size 2000x1000 with 1 Axes>"
      ]
     },
     "metadata": {},
     "output_type": "display_data"
    }
   ],
   "source": [
    "import matplotlib\n",
    "matplotlib.rcParams[\"figure.figsize\"]=(20,10)\n",
    "plt.hist(df8.price_per_sqft,rwidth=0.8)\n",
    "plt.xlabel(\"price per sq ft\")\n",
    "plt.ylabel(\"count\")"
   ]
  },
  {
   "cell_type": "code",
   "execution_count": 36,
   "metadata": {
    "vscode": {
     "languageId": "javascript"
    }
   },
   "outputs": [
    {
     "data": {
      "text/html": [
       "<div>\n",
       "<style scoped>\n",
       "    .dataframe tbody tr th:only-of-type {\n",
       "        vertical-align: middle;\n",
       "    }\n",
       "\n",
       "    .dataframe tbody tr th {\n",
       "        vertical-align: top;\n",
       "    }\n",
       "\n",
       "    .dataframe thead th {\n",
       "        text-align: right;\n",
       "    }\n",
       "</style>\n",
       "<table border=\"1\" class=\"dataframe\">\n",
       "  <thead>\n",
       "    <tr style=\"text-align: right;\">\n",
       "      <th></th>\n",
       "      <th>bhk</th>\n",
       "      <th>price</th>\n",
       "      <th>total_sqft</th>\n",
       "      <th>location</th>\n",
       "      <th>price_per_sqft</th>\n",
       "    </tr>\n",
       "  </thead>\n",
       "  <tbody>\n",
       "    <tr>\n",
       "      <th>0</th>\n",
       "      <td>2.0</td>\n",
       "      <td>34.0</td>\n",
       "      <td>1079.0</td>\n",
       "      <td>Adgaon, Nashik, Maharashtra</td>\n",
       "      <td>315.106580</td>\n",
       "    </tr>\n",
       "    <tr>\n",
       "      <th>1</th>\n",
       "      <td>2.0</td>\n",
       "      <td>38.0</td>\n",
       "      <td>1116.0</td>\n",
       "      <td>Adgaon, Nashik, Maharashtra</td>\n",
       "      <td>340.501792</td>\n",
       "    </tr>\n",
       "    <tr>\n",
       "      <th>2</th>\n",
       "      <td>4.0</td>\n",
       "      <td>70.0</td>\n",
       "      <td>2250.0</td>\n",
       "      <td>Adgaon, Nashik, Maharashtra</td>\n",
       "      <td>311.111111</td>\n",
       "    </tr>\n",
       "    <tr>\n",
       "      <th>3</th>\n",
       "      <td>4.0</td>\n",
       "      <td>70.0</td>\n",
       "      <td>2250.0</td>\n",
       "      <td>Adgaon, Nashik, Maharashtra</td>\n",
       "      <td>311.111111</td>\n",
       "    </tr>\n",
       "    <tr>\n",
       "      <th>4</th>\n",
       "      <td>1.0</td>\n",
       "      <td>18.0</td>\n",
       "      <td>600.0</td>\n",
       "      <td>Adgaon, Nashik, Maharashtra</td>\n",
       "      <td>300.000000</td>\n",
       "    </tr>\n",
       "  </tbody>\n",
       "</table>\n",
       "</div>"
      ],
      "text/plain": [
       "   bhk  price  total_sqft                     location  price_per_sqft\n",
       "0  2.0   34.0      1079.0  Adgaon, Nashik, Maharashtra      315.106580\n",
       "1  2.0   38.0      1116.0  Adgaon, Nashik, Maharashtra      340.501792\n",
       "2  4.0   70.0      2250.0  Adgaon, Nashik, Maharashtra      311.111111\n",
       "3  4.0   70.0      2250.0  Adgaon, Nashik, Maharashtra      311.111111\n",
       "4  1.0   18.0       600.0  Adgaon, Nashik, Maharashtra      300.000000"
      ]
     },
     "execution_count": 36,
     "metadata": {},
     "output_type": "execute_result"
    }
   ],
   "source": [
    "df8.head()"
   ]
  },
  {
   "cell_type": "code",
   "execution_count": 37,
   "metadata": {
    "colab": {
     "base_uri": "https://localhost:8080/",
     "height": 566
    },
    "id": "sPYy2Gzlf-v9",
    "outputId": "477dc27b-cb33-4dc0-befe-a7657668b5f6",
    "vscode": {
     "languageId": "javascript"
    }
   },
   "outputs": [
    {
     "data": {
      "text/html": [
       "<div>\n",
       "<style scoped>\n",
       "    .dataframe tbody tr th:only-of-type {\n",
       "        vertical-align: middle;\n",
       "    }\n",
       "\n",
       "    .dataframe tbody tr th {\n",
       "        vertical-align: top;\n",
       "    }\n",
       "\n",
       "    .dataframe thead th {\n",
       "        text-align: right;\n",
       "    }\n",
       "</style>\n",
       "<table border=\"1\" class=\"dataframe\">\n",
       "  <thead>\n",
       "    <tr style=\"text-align: right;\">\n",
       "      <th></th>\n",
       "      <th>bhk</th>\n",
       "      <th>price</th>\n",
       "      <th>total_sqft</th>\n",
       "      <th>location</th>\n",
       "    </tr>\n",
       "  </thead>\n",
       "  <tbody>\n",
       "    <tr>\n",
       "      <th>0</th>\n",
       "      <td>2.0</td>\n",
       "      <td>34.0</td>\n",
       "      <td>1079.0</td>\n",
       "      <td>Adgaon, Nashik, Maharashtra</td>\n",
       "    </tr>\n",
       "    <tr>\n",
       "      <th>1</th>\n",
       "      <td>2.0</td>\n",
       "      <td>38.0</td>\n",
       "      <td>1116.0</td>\n",
       "      <td>Adgaon, Nashik, Maharashtra</td>\n",
       "    </tr>\n",
       "    <tr>\n",
       "      <th>2</th>\n",
       "      <td>4.0</td>\n",
       "      <td>70.0</td>\n",
       "      <td>2250.0</td>\n",
       "      <td>Adgaon, Nashik, Maharashtra</td>\n",
       "    </tr>\n",
       "  </tbody>\n",
       "</table>\n",
       "</div>"
      ],
      "text/plain": [
       "   bhk  price  total_sqft                     location\n",
       "0  2.0   34.0      1079.0  Adgaon, Nashik, Maharashtra\n",
       "1  2.0   38.0      1116.0  Adgaon, Nashik, Maharashtra\n",
       "2  4.0   70.0      2250.0  Adgaon, Nashik, Maharashtra"
      ]
     },
     "execution_count": 37,
     "metadata": {},
     "output_type": "execute_result"
    }
   ],
   "source": [
    "df10 = df8.drop(['price_per_sqft'],axis='columns')\n",
    "df10.head(3)\n"
   ]
  },
  {
   "cell_type": "code",
   "execution_count": 38,
   "metadata": {
    "colab": {
     "base_uri": "https://localhost:8080/"
    },
    "id": "BU9nVM3ngggH",
    "outputId": "dc058bdf-023b-4316-a0f9-2fc2140b85b9",
    "vscode": {
     "languageId": "javascript"
    }
   },
   "outputs": [
    {
     "data": {
      "text/html": [
       "<div>\n",
       "<style scoped>\n",
       "    .dataframe tbody tr th:only-of-type {\n",
       "        vertical-align: middle;\n",
       "    }\n",
       "\n",
       "    .dataframe tbody tr th {\n",
       "        vertical-align: top;\n",
       "    }\n",
       "\n",
       "    .dataframe thead th {\n",
       "        text-align: right;\n",
       "    }\n",
       "</style>\n",
       "<table border=\"1\" class=\"dataframe\">\n",
       "  <thead>\n",
       "    <tr style=\"text-align: right;\">\n",
       "      <th></th>\n",
       "      <th>Adgaon, Nashik, Maharashtra</th>\n",
       "      <th>Adhav Nagar, Dasak, Nashik, Maharashtra</th>\n",
       "      <th>Ambad Village, Ambad, Nashik, Maharashtra</th>\n",
       "      <th>Amrutdham, Panchavati, Nashik, Maharashtra</th>\n",
       "      <th>Anand Nagar, Upnagar, Nashik, Maharashtra</th>\n",
       "      <th>Anand Vihar Colony, Veer Savarkar Nagar, Nashik, Maharashtra</th>\n",
       "      <th>Ashok Nagar, Satpur, Nashik, Maharashtra</th>\n",
       "      <th>Ashwin Nagar, Cidco, Nashik, Maharashtra</th>\n",
       "      <th>Astavinayak Colony, Veer Savarkar Nagar, Nashik, Maharashtra</th>\n",
       "      <th>Atharva Heights</th>\n",
       "      <th>...</th>\n",
       "      <th>Swami Samarth Nagar, Mankar Mala, Nashik, Maharashtra</th>\n",
       "      <th>Trimbak, Trimbakeshwar, Nashik, Maharashtra</th>\n",
       "      <th>Uttam Nagar, Cidco, Nashik, Maharashtra</th>\n",
       "      <th>Vasantdada Nagar, Adgaon, Nashik, Maharashtra</th>\n",
       "      <th>Vijaynagar, Deola, Nashik, Maharashtra</th>\n",
       "      <th>Vivekanand Nagar, Anandvalli, Nashik, Maharashtra</th>\n",
       "      <th>Vrindavan Nagar, Cidco, Nashik, Maharashtra</th>\n",
       "      <th>Wadala, Nashik, Maharashtra</th>\n",
       "      <th>Wasan Nagar, Pathardi Phata, Nashik, Maharashtra</th>\n",
       "      <th>other</th>\n",
       "    </tr>\n",
       "  </thead>\n",
       "  <tbody>\n",
       "    <tr>\n",
       "      <th>0</th>\n",
       "      <td>1</td>\n",
       "      <td>0</td>\n",
       "      <td>0</td>\n",
       "      <td>0</td>\n",
       "      <td>0</td>\n",
       "      <td>0</td>\n",
       "      <td>0</td>\n",
       "      <td>0</td>\n",
       "      <td>0</td>\n",
       "      <td>0</td>\n",
       "      <td>...</td>\n",
       "      <td>0</td>\n",
       "      <td>0</td>\n",
       "      <td>0</td>\n",
       "      <td>0</td>\n",
       "      <td>0</td>\n",
       "      <td>0</td>\n",
       "      <td>0</td>\n",
       "      <td>0</td>\n",
       "      <td>0</td>\n",
       "      <td>0</td>\n",
       "    </tr>\n",
       "    <tr>\n",
       "      <th>1</th>\n",
       "      <td>1</td>\n",
       "      <td>0</td>\n",
       "      <td>0</td>\n",
       "      <td>0</td>\n",
       "      <td>0</td>\n",
       "      <td>0</td>\n",
       "      <td>0</td>\n",
       "      <td>0</td>\n",
       "      <td>0</td>\n",
       "      <td>0</td>\n",
       "      <td>...</td>\n",
       "      <td>0</td>\n",
       "      <td>0</td>\n",
       "      <td>0</td>\n",
       "      <td>0</td>\n",
       "      <td>0</td>\n",
       "      <td>0</td>\n",
       "      <td>0</td>\n",
       "      <td>0</td>\n",
       "      <td>0</td>\n",
       "      <td>0</td>\n",
       "    </tr>\n",
       "    <tr>\n",
       "      <th>2</th>\n",
       "      <td>1</td>\n",
       "      <td>0</td>\n",
       "      <td>0</td>\n",
       "      <td>0</td>\n",
       "      <td>0</td>\n",
       "      <td>0</td>\n",
       "      <td>0</td>\n",
       "      <td>0</td>\n",
       "      <td>0</td>\n",
       "      <td>0</td>\n",
       "      <td>...</td>\n",
       "      <td>0</td>\n",
       "      <td>0</td>\n",
       "      <td>0</td>\n",
       "      <td>0</td>\n",
       "      <td>0</td>\n",
       "      <td>0</td>\n",
       "      <td>0</td>\n",
       "      <td>0</td>\n",
       "      <td>0</td>\n",
       "      <td>0</td>\n",
       "    </tr>\n",
       "  </tbody>\n",
       "</table>\n",
       "<p>3 rows × 80 columns</p>\n",
       "</div>"
      ],
      "text/plain": [
       "   Adgaon, Nashik, Maharashtra  Adhav Nagar, Dasak, Nashik, Maharashtra  \\\n",
       "0                            1                                        0   \n",
       "1                            1                                        0   \n",
       "2                            1                                        0   \n",
       "\n",
       "   Ambad Village, Ambad, Nashik, Maharashtra  \\\n",
       "0                                          0   \n",
       "1                                          0   \n",
       "2                                          0   \n",
       "\n",
       "   Amrutdham, Panchavati, Nashik, Maharashtra  \\\n",
       "0                                           0   \n",
       "1                                           0   \n",
       "2                                           0   \n",
       "\n",
       "   Anand Nagar, Upnagar, Nashik, Maharashtra  \\\n",
       "0                                          0   \n",
       "1                                          0   \n",
       "2                                          0   \n",
       "\n",
       "   Anand Vihar Colony, Veer Savarkar Nagar, Nashik, Maharashtra  \\\n",
       "0                                                  0              \n",
       "1                                                  0              \n",
       "2                                                  0              \n",
       "\n",
       "   Ashok Nagar, Satpur, Nashik, Maharashtra  \\\n",
       "0                                         0   \n",
       "1                                         0   \n",
       "2                                         0   \n",
       "\n",
       "   Ashwin Nagar, Cidco, Nashik, Maharashtra  \\\n",
       "0                                         0   \n",
       "1                                         0   \n",
       "2                                         0   \n",
       "\n",
       "   Astavinayak Colony, Veer Savarkar Nagar, Nashik, Maharashtra  \\\n",
       "0                                                  0              \n",
       "1                                                  0              \n",
       "2                                                  0              \n",
       "\n",
       "   Atharva Heights  ...  \\\n",
       "0                0  ...   \n",
       "1                0  ...   \n",
       "2                0  ...   \n",
       "\n",
       "   Swami Samarth Nagar, Mankar Mala, Nashik, Maharashtra  \\\n",
       "0                                                  0       \n",
       "1                                                  0       \n",
       "2                                                  0       \n",
       "\n",
       "   Trimbak, Trimbakeshwar, Nashik, Maharashtra  \\\n",
       "0                                            0   \n",
       "1                                            0   \n",
       "2                                            0   \n",
       "\n",
       "   Uttam Nagar, Cidco, Nashik, Maharashtra  \\\n",
       "0                                        0   \n",
       "1                                        0   \n",
       "2                                        0   \n",
       "\n",
       "   Vasantdada Nagar, Adgaon, Nashik, Maharashtra  \\\n",
       "0                                              0   \n",
       "1                                              0   \n",
       "2                                              0   \n",
       "\n",
       "   Vijaynagar, Deola, Nashik, Maharashtra  \\\n",
       "0                                       0   \n",
       "1                                       0   \n",
       "2                                       0   \n",
       "\n",
       "   Vivekanand Nagar, Anandvalli, Nashik, Maharashtra  \\\n",
       "0                                                  0   \n",
       "1                                                  0   \n",
       "2                                                  0   \n",
       "\n",
       "   Vrindavan Nagar, Cidco, Nashik, Maharashtra  Wadala, Nashik, Maharashtra  \\\n",
       "0                                            0                            0   \n",
       "1                                            0                            0   \n",
       "2                                            0                            0   \n",
       "\n",
       "   Wasan Nagar, Pathardi Phata, Nashik, Maharashtra  other  \n",
       "0                                                 0      0  \n",
       "1                                                 0      0  \n",
       "2                                                 0      0  \n",
       "\n",
       "[3 rows x 80 columns]"
      ]
     },
     "execution_count": 38,
     "metadata": {},
     "output_type": "execute_result"
    }
   ],
   "source": [
    "dummies = pd.get_dummies(df10.location)\n",
    "dummies.head(3)"
   ]
  },
  {
   "cell_type": "code",
   "execution_count": 39,
   "metadata": {
    "vscode": {
     "languageId": "javascript"
    }
   },
   "outputs": [
    {
     "data": {
      "text/html": [
       "<div>\n",
       "<style scoped>\n",
       "    .dataframe tbody tr th:only-of-type {\n",
       "        vertical-align: middle;\n",
       "    }\n",
       "\n",
       "    .dataframe tbody tr th {\n",
       "        vertical-align: top;\n",
       "    }\n",
       "\n",
       "    .dataframe thead th {\n",
       "        text-align: right;\n",
       "    }\n",
       "</style>\n",
       "<table border=\"1\" class=\"dataframe\">\n",
       "  <thead>\n",
       "    <tr style=\"text-align: right;\">\n",
       "      <th></th>\n",
       "      <th>bhk</th>\n",
       "      <th>price</th>\n",
       "      <th>total_sqft</th>\n",
       "      <th>location</th>\n",
       "      <th>Adgaon, Nashik, Maharashtra</th>\n",
       "      <th>Adhav Nagar, Dasak, Nashik, Maharashtra</th>\n",
       "      <th>Ambad Village, Ambad, Nashik, Maharashtra</th>\n",
       "      <th>Amrutdham, Panchavati, Nashik, Maharashtra</th>\n",
       "      <th>Anand Nagar, Upnagar, Nashik, Maharashtra</th>\n",
       "      <th>Anand Vihar Colony, Veer Savarkar Nagar, Nashik, Maharashtra</th>\n",
       "      <th>...</th>\n",
       "      <th>Suyog Colony, Satpur, Nashik, Maharashtra</th>\n",
       "      <th>Swami Samarth Nagar, Mankar Mala, Nashik, Maharashtra</th>\n",
       "      <th>Trimbak, Trimbakeshwar, Nashik, Maharashtra</th>\n",
       "      <th>Uttam Nagar, Cidco, Nashik, Maharashtra</th>\n",
       "      <th>Vasantdada Nagar, Adgaon, Nashik, Maharashtra</th>\n",
       "      <th>Vijaynagar, Deola, Nashik, Maharashtra</th>\n",
       "      <th>Vivekanand Nagar, Anandvalli, Nashik, Maharashtra</th>\n",
       "      <th>Vrindavan Nagar, Cidco, Nashik, Maharashtra</th>\n",
       "      <th>Wadala, Nashik, Maharashtra</th>\n",
       "      <th>Wasan Nagar, Pathardi Phata, Nashik, Maharashtra</th>\n",
       "    </tr>\n",
       "  </thead>\n",
       "  <tbody>\n",
       "    <tr>\n",
       "      <th>0</th>\n",
       "      <td>2.0</td>\n",
       "      <td>34.0</td>\n",
       "      <td>1079.0</td>\n",
       "      <td>Adgaon, Nashik, Maharashtra</td>\n",
       "      <td>1</td>\n",
       "      <td>0</td>\n",
       "      <td>0</td>\n",
       "      <td>0</td>\n",
       "      <td>0</td>\n",
       "      <td>0</td>\n",
       "      <td>...</td>\n",
       "      <td>0</td>\n",
       "      <td>0</td>\n",
       "      <td>0</td>\n",
       "      <td>0</td>\n",
       "      <td>0</td>\n",
       "      <td>0</td>\n",
       "      <td>0</td>\n",
       "      <td>0</td>\n",
       "      <td>0</td>\n",
       "      <td>0</td>\n",
       "    </tr>\n",
       "    <tr>\n",
       "      <th>1</th>\n",
       "      <td>2.0</td>\n",
       "      <td>38.0</td>\n",
       "      <td>1116.0</td>\n",
       "      <td>Adgaon, Nashik, Maharashtra</td>\n",
       "      <td>1</td>\n",
       "      <td>0</td>\n",
       "      <td>0</td>\n",
       "      <td>0</td>\n",
       "      <td>0</td>\n",
       "      <td>0</td>\n",
       "      <td>...</td>\n",
       "      <td>0</td>\n",
       "      <td>0</td>\n",
       "      <td>0</td>\n",
       "      <td>0</td>\n",
       "      <td>0</td>\n",
       "      <td>0</td>\n",
       "      <td>0</td>\n",
       "      <td>0</td>\n",
       "      <td>0</td>\n",
       "      <td>0</td>\n",
       "    </tr>\n",
       "    <tr>\n",
       "      <th>2</th>\n",
       "      <td>4.0</td>\n",
       "      <td>70.0</td>\n",
       "      <td>2250.0</td>\n",
       "      <td>Adgaon, Nashik, Maharashtra</td>\n",
       "      <td>1</td>\n",
       "      <td>0</td>\n",
       "      <td>0</td>\n",
       "      <td>0</td>\n",
       "      <td>0</td>\n",
       "      <td>0</td>\n",
       "      <td>...</td>\n",
       "      <td>0</td>\n",
       "      <td>0</td>\n",
       "      <td>0</td>\n",
       "      <td>0</td>\n",
       "      <td>0</td>\n",
       "      <td>0</td>\n",
       "      <td>0</td>\n",
       "      <td>0</td>\n",
       "      <td>0</td>\n",
       "      <td>0</td>\n",
       "    </tr>\n",
       "    <tr>\n",
       "      <th>3</th>\n",
       "      <td>4.0</td>\n",
       "      <td>70.0</td>\n",
       "      <td>2250.0</td>\n",
       "      <td>Adgaon, Nashik, Maharashtra</td>\n",
       "      <td>1</td>\n",
       "      <td>0</td>\n",
       "      <td>0</td>\n",
       "      <td>0</td>\n",
       "      <td>0</td>\n",
       "      <td>0</td>\n",
       "      <td>...</td>\n",
       "      <td>0</td>\n",
       "      <td>0</td>\n",
       "      <td>0</td>\n",
       "      <td>0</td>\n",
       "      <td>0</td>\n",
       "      <td>0</td>\n",
       "      <td>0</td>\n",
       "      <td>0</td>\n",
       "      <td>0</td>\n",
       "      <td>0</td>\n",
       "    </tr>\n",
       "    <tr>\n",
       "      <th>4</th>\n",
       "      <td>1.0</td>\n",
       "      <td>18.0</td>\n",
       "      <td>600.0</td>\n",
       "      <td>Adgaon, Nashik, Maharashtra</td>\n",
       "      <td>1</td>\n",
       "      <td>0</td>\n",
       "      <td>0</td>\n",
       "      <td>0</td>\n",
       "      <td>0</td>\n",
       "      <td>0</td>\n",
       "      <td>...</td>\n",
       "      <td>0</td>\n",
       "      <td>0</td>\n",
       "      <td>0</td>\n",
       "      <td>0</td>\n",
       "      <td>0</td>\n",
       "      <td>0</td>\n",
       "      <td>0</td>\n",
       "      <td>0</td>\n",
       "      <td>0</td>\n",
       "      <td>0</td>\n",
       "    </tr>\n",
       "  </tbody>\n",
       "</table>\n",
       "<p>5 rows × 83 columns</p>\n",
       "</div>"
      ],
      "text/plain": [
       "   bhk  price  total_sqft                     location  \\\n",
       "0  2.0   34.0      1079.0  Adgaon, Nashik, Maharashtra   \n",
       "1  2.0   38.0      1116.0  Adgaon, Nashik, Maharashtra   \n",
       "2  4.0   70.0      2250.0  Adgaon, Nashik, Maharashtra   \n",
       "3  4.0   70.0      2250.0  Adgaon, Nashik, Maharashtra   \n",
       "4  1.0   18.0       600.0  Adgaon, Nashik, Maharashtra   \n",
       "\n",
       "   Adgaon, Nashik, Maharashtra  Adhav Nagar, Dasak, Nashik, Maharashtra  \\\n",
       "0                            1                                        0   \n",
       "1                            1                                        0   \n",
       "2                            1                                        0   \n",
       "3                            1                                        0   \n",
       "4                            1                                        0   \n",
       "\n",
       "   Ambad Village, Ambad, Nashik, Maharashtra  \\\n",
       "0                                          0   \n",
       "1                                          0   \n",
       "2                                          0   \n",
       "3                                          0   \n",
       "4                                          0   \n",
       "\n",
       "   Amrutdham, Panchavati, Nashik, Maharashtra  \\\n",
       "0                                           0   \n",
       "1                                           0   \n",
       "2                                           0   \n",
       "3                                           0   \n",
       "4                                           0   \n",
       "\n",
       "   Anand Nagar, Upnagar, Nashik, Maharashtra  \\\n",
       "0                                          0   \n",
       "1                                          0   \n",
       "2                                          0   \n",
       "3                                          0   \n",
       "4                                          0   \n",
       "\n",
       "   Anand Vihar Colony, Veer Savarkar Nagar, Nashik, Maharashtra  ...  \\\n",
       "0                                                  0             ...   \n",
       "1                                                  0             ...   \n",
       "2                                                  0             ...   \n",
       "3                                                  0             ...   \n",
       "4                                                  0             ...   \n",
       "\n",
       "   Suyog Colony, Satpur, Nashik, Maharashtra  \\\n",
       "0                                          0   \n",
       "1                                          0   \n",
       "2                                          0   \n",
       "3                                          0   \n",
       "4                                          0   \n",
       "\n",
       "   Swami Samarth Nagar, Mankar Mala, Nashik, Maharashtra  \\\n",
       "0                                                  0       \n",
       "1                                                  0       \n",
       "2                                                  0       \n",
       "3                                                  0       \n",
       "4                                                  0       \n",
       "\n",
       "   Trimbak, Trimbakeshwar, Nashik, Maharashtra  \\\n",
       "0                                            0   \n",
       "1                                            0   \n",
       "2                                            0   \n",
       "3                                            0   \n",
       "4                                            0   \n",
       "\n",
       "   Uttam Nagar, Cidco, Nashik, Maharashtra  \\\n",
       "0                                        0   \n",
       "1                                        0   \n",
       "2                                        0   \n",
       "3                                        0   \n",
       "4                                        0   \n",
       "\n",
       "   Vasantdada Nagar, Adgaon, Nashik, Maharashtra  \\\n",
       "0                                              0   \n",
       "1                                              0   \n",
       "2                                              0   \n",
       "3                                              0   \n",
       "4                                              0   \n",
       "\n",
       "   Vijaynagar, Deola, Nashik, Maharashtra  \\\n",
       "0                                       0   \n",
       "1                                       0   \n",
       "2                                       0   \n",
       "3                                       0   \n",
       "4                                       0   \n",
       "\n",
       "   Vivekanand Nagar, Anandvalli, Nashik, Maharashtra  \\\n",
       "0                                                  0   \n",
       "1                                                  0   \n",
       "2                                                  0   \n",
       "3                                                  0   \n",
       "4                                                  0   \n",
       "\n",
       "   Vrindavan Nagar, Cidco, Nashik, Maharashtra  Wadala, Nashik, Maharashtra  \\\n",
       "0                                            0                            0   \n",
       "1                                            0                            0   \n",
       "2                                            0                            0   \n",
       "3                                            0                            0   \n",
       "4                                            0                            0   \n",
       "\n",
       "   Wasan Nagar, Pathardi Phata, Nashik, Maharashtra  \n",
       "0                                                 0  \n",
       "1                                                 0  \n",
       "2                                                 0  \n",
       "3                                                 0  \n",
       "4                                                 0  \n",
       "\n",
       "[5 rows x 83 columns]"
      ]
     },
     "execution_count": 39,
     "metadata": {},
     "output_type": "execute_result"
    }
   ],
   "source": [
    "df11 = pd.concat([df10,dummies.drop('other',axis='columns')],axis='columns')\n",
    "df11.head()"
   ]
  },
  {
   "cell_type": "code",
   "execution_count": 40,
   "metadata": {
    "colab": {
     "base_uri": "https://localhost:8080/"
    },
    "id": "iuWKMgjOgpKs",
    "outputId": "67a496a2-4b89-4577-dec3-3fabecc43c99",
    "vscode": {
     "languageId": "javascript"
    }
   },
   "outputs": [
    {
     "data": {
      "text/html": [
       "<div>\n",
       "<style scoped>\n",
       "    .dataframe tbody tr th:only-of-type {\n",
       "        vertical-align: middle;\n",
       "    }\n",
       "\n",
       "    .dataframe tbody tr th {\n",
       "        vertical-align: top;\n",
       "    }\n",
       "\n",
       "    .dataframe thead th {\n",
       "        text-align: right;\n",
       "    }\n",
       "</style>\n",
       "<table border=\"1\" class=\"dataframe\">\n",
       "  <thead>\n",
       "    <tr style=\"text-align: right;\">\n",
       "      <th></th>\n",
       "      <th>bhk</th>\n",
       "      <th>price</th>\n",
       "      <th>total_sqft</th>\n",
       "      <th>Adgaon, Nashik, Maharashtra</th>\n",
       "      <th>Adhav Nagar, Dasak, Nashik, Maharashtra</th>\n",
       "      <th>Ambad Village, Ambad, Nashik, Maharashtra</th>\n",
       "      <th>Amrutdham, Panchavati, Nashik, Maharashtra</th>\n",
       "      <th>Anand Nagar, Upnagar, Nashik, Maharashtra</th>\n",
       "      <th>Anand Vihar Colony, Veer Savarkar Nagar, Nashik, Maharashtra</th>\n",
       "      <th>Ashok Nagar, Satpur, Nashik, Maharashtra</th>\n",
       "      <th>...</th>\n",
       "      <th>Suyog Colony, Satpur, Nashik, Maharashtra</th>\n",
       "      <th>Swami Samarth Nagar, Mankar Mala, Nashik, Maharashtra</th>\n",
       "      <th>Trimbak, Trimbakeshwar, Nashik, Maharashtra</th>\n",
       "      <th>Uttam Nagar, Cidco, Nashik, Maharashtra</th>\n",
       "      <th>Vasantdada Nagar, Adgaon, Nashik, Maharashtra</th>\n",
       "      <th>Vijaynagar, Deola, Nashik, Maharashtra</th>\n",
       "      <th>Vivekanand Nagar, Anandvalli, Nashik, Maharashtra</th>\n",
       "      <th>Vrindavan Nagar, Cidco, Nashik, Maharashtra</th>\n",
       "      <th>Wadala, Nashik, Maharashtra</th>\n",
       "      <th>Wasan Nagar, Pathardi Phata, Nashik, Maharashtra</th>\n",
       "    </tr>\n",
       "  </thead>\n",
       "  <tbody>\n",
       "    <tr>\n",
       "      <th>0</th>\n",
       "      <td>2.0</td>\n",
       "      <td>34.0</td>\n",
       "      <td>1079.0</td>\n",
       "      <td>1</td>\n",
       "      <td>0</td>\n",
       "      <td>0</td>\n",
       "      <td>0</td>\n",
       "      <td>0</td>\n",
       "      <td>0</td>\n",
       "      <td>0</td>\n",
       "      <td>...</td>\n",
       "      <td>0</td>\n",
       "      <td>0</td>\n",
       "      <td>0</td>\n",
       "      <td>0</td>\n",
       "      <td>0</td>\n",
       "      <td>0</td>\n",
       "      <td>0</td>\n",
       "      <td>0</td>\n",
       "      <td>0</td>\n",
       "      <td>0</td>\n",
       "    </tr>\n",
       "    <tr>\n",
       "      <th>1</th>\n",
       "      <td>2.0</td>\n",
       "      <td>38.0</td>\n",
       "      <td>1116.0</td>\n",
       "      <td>1</td>\n",
       "      <td>0</td>\n",
       "      <td>0</td>\n",
       "      <td>0</td>\n",
       "      <td>0</td>\n",
       "      <td>0</td>\n",
       "      <td>0</td>\n",
       "      <td>...</td>\n",
       "      <td>0</td>\n",
       "      <td>0</td>\n",
       "      <td>0</td>\n",
       "      <td>0</td>\n",
       "      <td>0</td>\n",
       "      <td>0</td>\n",
       "      <td>0</td>\n",
       "      <td>0</td>\n",
       "      <td>0</td>\n",
       "      <td>0</td>\n",
       "    </tr>\n",
       "  </tbody>\n",
       "</table>\n",
       "<p>2 rows × 82 columns</p>\n",
       "</div>"
      ],
      "text/plain": [
       "   bhk  price  total_sqft  Adgaon, Nashik, Maharashtra  \\\n",
       "0  2.0   34.0      1079.0                            1   \n",
       "1  2.0   38.0      1116.0                            1   \n",
       "\n",
       "   Adhav Nagar, Dasak, Nashik, Maharashtra  \\\n",
       "0                                        0   \n",
       "1                                        0   \n",
       "\n",
       "   Ambad Village, Ambad, Nashik, Maharashtra  \\\n",
       "0                                          0   \n",
       "1                                          0   \n",
       "\n",
       "   Amrutdham, Panchavati, Nashik, Maharashtra  \\\n",
       "0                                           0   \n",
       "1                                           0   \n",
       "\n",
       "   Anand Nagar, Upnagar, Nashik, Maharashtra  \\\n",
       "0                                          0   \n",
       "1                                          0   \n",
       "\n",
       "   Anand Vihar Colony, Veer Savarkar Nagar, Nashik, Maharashtra  \\\n",
       "0                                                  0              \n",
       "1                                                  0              \n",
       "\n",
       "   Ashok Nagar, Satpur, Nashik, Maharashtra  ...  \\\n",
       "0                                         0  ...   \n",
       "1                                         0  ...   \n",
       "\n",
       "   Suyog Colony, Satpur, Nashik, Maharashtra  \\\n",
       "0                                          0   \n",
       "1                                          0   \n",
       "\n",
       "   Swami Samarth Nagar, Mankar Mala, Nashik, Maharashtra  \\\n",
       "0                                                  0       \n",
       "1                                                  0       \n",
       "\n",
       "   Trimbak, Trimbakeshwar, Nashik, Maharashtra  \\\n",
       "0                                            0   \n",
       "1                                            0   \n",
       "\n",
       "   Uttam Nagar, Cidco, Nashik, Maharashtra  \\\n",
       "0                                        0   \n",
       "1                                        0   \n",
       "\n",
       "   Vasantdada Nagar, Adgaon, Nashik, Maharashtra  \\\n",
       "0                                              0   \n",
       "1                                              0   \n",
       "\n",
       "   Vijaynagar, Deola, Nashik, Maharashtra  \\\n",
       "0                                       0   \n",
       "1                                       0   \n",
       "\n",
       "   Vivekanand Nagar, Anandvalli, Nashik, Maharashtra  \\\n",
       "0                                                  0   \n",
       "1                                                  0   \n",
       "\n",
       "   Vrindavan Nagar, Cidco, Nashik, Maharashtra  Wadala, Nashik, Maharashtra  \\\n",
       "0                                            0                            0   \n",
       "1                                            0                            0   \n",
       "\n",
       "   Wasan Nagar, Pathardi Phata, Nashik, Maharashtra  \n",
       "0                                                 0  \n",
       "1                                                 0  \n",
       "\n",
       "[2 rows x 82 columns]"
      ]
     },
     "execution_count": 40,
     "metadata": {},
     "output_type": "execute_result"
    }
   ],
   "source": [
    "df12 = df11.drop('location',axis='columns')\n",
    "df12.head(2)"
   ]
  },
  {
   "cell_type": "code",
   "execution_count": 41,
   "metadata": {
    "colab": {
     "base_uri": "https://localhost:8080/",
     "height": 143
    },
    "id": "ee75wI9uhPrK",
    "outputId": "1e996bfc-214a-4bc7-d247-d07d5e2a1898",
    "vscode": {
     "languageId": "javascript"
    }
   },
   "outputs": [
    {
     "data": {
      "text/plain": [
       "(2429, 82)"
      ]
     },
     "execution_count": 41,
     "metadata": {},
     "output_type": "execute_result"
    }
   ],
   "source": [
    "df12.shape\n"
   ]
  },
  {
   "cell_type": "code",
   "execution_count": 42,
   "metadata": {
    "colab": {
     "base_uri": "https://localhost:8080/",
     "height": 237
    },
    "id": "k1pKQdEjiB2e",
    "outputId": "94c5a205-da47-41d3-fb55-db73f89a49a3",
    "vscode": {
     "languageId": "javascript"
    }
   },
   "outputs": [
    {
     "data": {
      "text/html": [
       "<div>\n",
       "<style scoped>\n",
       "    .dataframe tbody tr th:only-of-type {\n",
       "        vertical-align: middle;\n",
       "    }\n",
       "\n",
       "    .dataframe tbody tr th {\n",
       "        vertical-align: top;\n",
       "    }\n",
       "\n",
       "    .dataframe thead th {\n",
       "        text-align: right;\n",
       "    }\n",
       "</style>\n",
       "<table border=\"1\" class=\"dataframe\">\n",
       "  <thead>\n",
       "    <tr style=\"text-align: right;\">\n",
       "      <th></th>\n",
       "      <th>bhk</th>\n",
       "      <th>total_sqft</th>\n",
       "      <th>Adgaon, Nashik, Maharashtra</th>\n",
       "      <th>Adhav Nagar, Dasak, Nashik, Maharashtra</th>\n",
       "      <th>Ambad Village, Ambad, Nashik, Maharashtra</th>\n",
       "      <th>Amrutdham, Panchavati, Nashik, Maharashtra</th>\n",
       "      <th>Anand Nagar, Upnagar, Nashik, Maharashtra</th>\n",
       "      <th>Anand Vihar Colony, Veer Savarkar Nagar, Nashik, Maharashtra</th>\n",
       "      <th>Ashok Nagar, Satpur, Nashik, Maharashtra</th>\n",
       "      <th>Ashwin Nagar, Cidco, Nashik, Maharashtra</th>\n",
       "      <th>...</th>\n",
       "      <th>Suyog Colony, Satpur, Nashik, Maharashtra</th>\n",
       "      <th>Swami Samarth Nagar, Mankar Mala, Nashik, Maharashtra</th>\n",
       "      <th>Trimbak, Trimbakeshwar, Nashik, Maharashtra</th>\n",
       "      <th>Uttam Nagar, Cidco, Nashik, Maharashtra</th>\n",
       "      <th>Vasantdada Nagar, Adgaon, Nashik, Maharashtra</th>\n",
       "      <th>Vijaynagar, Deola, Nashik, Maharashtra</th>\n",
       "      <th>Vivekanand Nagar, Anandvalli, Nashik, Maharashtra</th>\n",
       "      <th>Vrindavan Nagar, Cidco, Nashik, Maharashtra</th>\n",
       "      <th>Wadala, Nashik, Maharashtra</th>\n",
       "      <th>Wasan Nagar, Pathardi Phata, Nashik, Maharashtra</th>\n",
       "    </tr>\n",
       "  </thead>\n",
       "  <tbody>\n",
       "    <tr>\n",
       "      <th>0</th>\n",
       "      <td>2.0</td>\n",
       "      <td>1079.0</td>\n",
       "      <td>1</td>\n",
       "      <td>0</td>\n",
       "      <td>0</td>\n",
       "      <td>0</td>\n",
       "      <td>0</td>\n",
       "      <td>0</td>\n",
       "      <td>0</td>\n",
       "      <td>0</td>\n",
       "      <td>...</td>\n",
       "      <td>0</td>\n",
       "      <td>0</td>\n",
       "      <td>0</td>\n",
       "      <td>0</td>\n",
       "      <td>0</td>\n",
       "      <td>0</td>\n",
       "      <td>0</td>\n",
       "      <td>0</td>\n",
       "      <td>0</td>\n",
       "      <td>0</td>\n",
       "    </tr>\n",
       "    <tr>\n",
       "      <th>1</th>\n",
       "      <td>2.0</td>\n",
       "      <td>1116.0</td>\n",
       "      <td>1</td>\n",
       "      <td>0</td>\n",
       "      <td>0</td>\n",
       "      <td>0</td>\n",
       "      <td>0</td>\n",
       "      <td>0</td>\n",
       "      <td>0</td>\n",
       "      <td>0</td>\n",
       "      <td>...</td>\n",
       "      <td>0</td>\n",
       "      <td>0</td>\n",
       "      <td>0</td>\n",
       "      <td>0</td>\n",
       "      <td>0</td>\n",
       "      <td>0</td>\n",
       "      <td>0</td>\n",
       "      <td>0</td>\n",
       "      <td>0</td>\n",
       "      <td>0</td>\n",
       "    </tr>\n",
       "    <tr>\n",
       "      <th>2</th>\n",
       "      <td>4.0</td>\n",
       "      <td>2250.0</td>\n",
       "      <td>1</td>\n",
       "      <td>0</td>\n",
       "      <td>0</td>\n",
       "      <td>0</td>\n",
       "      <td>0</td>\n",
       "      <td>0</td>\n",
       "      <td>0</td>\n",
       "      <td>0</td>\n",
       "      <td>...</td>\n",
       "      <td>0</td>\n",
       "      <td>0</td>\n",
       "      <td>0</td>\n",
       "      <td>0</td>\n",
       "      <td>0</td>\n",
       "      <td>0</td>\n",
       "      <td>0</td>\n",
       "      <td>0</td>\n",
       "      <td>0</td>\n",
       "      <td>0</td>\n",
       "    </tr>\n",
       "  </tbody>\n",
       "</table>\n",
       "<p>3 rows × 81 columns</p>\n",
       "</div>"
      ],
      "text/plain": [
       "   bhk  total_sqft  Adgaon, Nashik, Maharashtra  \\\n",
       "0  2.0      1079.0                            1   \n",
       "1  2.0      1116.0                            1   \n",
       "2  4.0      2250.0                            1   \n",
       "\n",
       "   Adhav Nagar, Dasak, Nashik, Maharashtra  \\\n",
       "0                                        0   \n",
       "1                                        0   \n",
       "2                                        0   \n",
       "\n",
       "   Ambad Village, Ambad, Nashik, Maharashtra  \\\n",
       "0                                          0   \n",
       "1                                          0   \n",
       "2                                          0   \n",
       "\n",
       "   Amrutdham, Panchavati, Nashik, Maharashtra  \\\n",
       "0                                           0   \n",
       "1                                           0   \n",
       "2                                           0   \n",
       "\n",
       "   Anand Nagar, Upnagar, Nashik, Maharashtra  \\\n",
       "0                                          0   \n",
       "1                                          0   \n",
       "2                                          0   \n",
       "\n",
       "   Anand Vihar Colony, Veer Savarkar Nagar, Nashik, Maharashtra  \\\n",
       "0                                                  0              \n",
       "1                                                  0              \n",
       "2                                                  0              \n",
       "\n",
       "   Ashok Nagar, Satpur, Nashik, Maharashtra  \\\n",
       "0                                         0   \n",
       "1                                         0   \n",
       "2                                         0   \n",
       "\n",
       "   Ashwin Nagar, Cidco, Nashik, Maharashtra  ...  \\\n",
       "0                                         0  ...   \n",
       "1                                         0  ...   \n",
       "2                                         0  ...   \n",
       "\n",
       "   Suyog Colony, Satpur, Nashik, Maharashtra  \\\n",
       "0                                          0   \n",
       "1                                          0   \n",
       "2                                          0   \n",
       "\n",
       "   Swami Samarth Nagar, Mankar Mala, Nashik, Maharashtra  \\\n",
       "0                                                  0       \n",
       "1                                                  0       \n",
       "2                                                  0       \n",
       "\n",
       "   Trimbak, Trimbakeshwar, Nashik, Maharashtra  \\\n",
       "0                                            0   \n",
       "1                                            0   \n",
       "2                                            0   \n",
       "\n",
       "   Uttam Nagar, Cidco, Nashik, Maharashtra  \\\n",
       "0                                        0   \n",
       "1                                        0   \n",
       "2                                        0   \n",
       "\n",
       "   Vasantdada Nagar, Adgaon, Nashik, Maharashtra  \\\n",
       "0                                              0   \n",
       "1                                              0   \n",
       "2                                              0   \n",
       "\n",
       "   Vijaynagar, Deola, Nashik, Maharashtra  \\\n",
       "0                                       0   \n",
       "1                                       0   \n",
       "2                                       0   \n",
       "\n",
       "   Vivekanand Nagar, Anandvalli, Nashik, Maharashtra  \\\n",
       "0                                                  0   \n",
       "1                                                  0   \n",
       "2                                                  0   \n",
       "\n",
       "   Vrindavan Nagar, Cidco, Nashik, Maharashtra  Wadala, Nashik, Maharashtra  \\\n",
       "0                                            0                            0   \n",
       "1                                            0                            0   \n",
       "2                                            0                            0   \n",
       "\n",
       "   Wasan Nagar, Pathardi Phata, Nashik, Maharashtra  \n",
       "0                                                 0  \n",
       "1                                                 0  \n",
       "2                                                 0  \n",
       "\n",
       "[3 rows x 81 columns]"
      ]
     },
     "execution_count": 42,
     "metadata": {},
     "output_type": "execute_result"
    }
   ],
   "source": [
    "X = df12.drop(['price'],axis='columns')\n",
    "X.head(3)"
   ]
  },
  {
   "cell_type": "code",
   "execution_count": 43,
   "metadata": {
    "vscode": {
     "languageId": "javascript"
    }
   },
   "outputs": [
    {
     "data": {
      "text/plain": [
       "(2429, 81)"
      ]
     },
     "execution_count": 43,
     "metadata": {},
     "output_type": "execute_result"
    }
   ],
   "source": [
    "X.shape"
   ]
  },
  {
   "cell_type": "code",
   "execution_count": 44,
   "metadata": {
    "colab": {
     "base_uri": "https://localhost:8080/",
     "height": 341
    },
    "id": "GkbWyfmKiqr_",
    "outputId": "d53c599a-ea0a-44d9-c618-a959f5028cdc",
    "vscode": {
     "languageId": "javascript"
    }
   },
   "outputs": [
    {
     "data": {
      "text/plain": [
       "0    34.0\n",
       "1    38.0\n",
       "2    70.0\n",
       "Name: price, dtype: float64"
      ]
     },
     "execution_count": 44,
     "metadata": {},
     "output_type": "execute_result"
    }
   ],
   "source": [
    "y = df12.price\n",
    "y.head(3)"
   ]
  },
  {
   "cell_type": "code",
   "execution_count": 45,
   "metadata": {
    "vscode": {
     "languageId": "javascript"
    }
   },
   "outputs": [
    {
     "data": {
      "text/plain": [
       "2429"
      ]
     },
     "execution_count": 45,
     "metadata": {},
     "output_type": "execute_result"
    }
   ],
   "source": [
    "len(y)"
   ]
  },
  {
   "cell_type": "code",
   "execution_count": 46,
   "metadata": {
    "id": "DGGTRsAXkAE1",
    "vscode": {
     "languageId": "javascript"
    }
   },
   "outputs": [],
   "source": [
    "from sklearn.model_selection import train_test_split\n",
    "X_train, X_test, y_train,y_test = train_test_split(X,y,test_size=0.2,random_state=10)"
   ]
  },
  {
   "cell_type": "code",
   "execution_count": 47,
   "metadata": {
    "colab": {
     "base_uri": "https://localhost:8080/"
    },
    "id": "4Z_MifL3kXBk",
    "outputId": "f4499b9a-14bd-4669-930f-de5ceb995445",
    "vscode": {
     "languageId": "javascript"
    }
   },
   "outputs": [
    {
     "data": {
      "text/plain": [
       "0.8717680026342379"
      ]
     },
     "execution_count": 47,
     "metadata": {},
     "output_type": "execute_result"
    }
   ],
   "source": [
    "from sklearn.linear_model import LinearRegression\n",
    "lr_clf = LinearRegression()\n",
    "lr_clf.fit(X_train,y_train)\n",
    "lr_clf.score(X_test,y_test)"
   ]
  },
  {
   "cell_type": "code",
   "execution_count": 48,
   "metadata": {
    "colab": {
     "base_uri": "https://localhost:8080/"
    },
    "id": "iRlwzay8lMCU",
    "outputId": "5f29d6f8-60e7-4fab-ea58-a013cea4f39f",
    "vscode": {
     "languageId": "javascript"
    }
   },
   "outputs": [
    {
     "data": {
      "text/plain": [
       "array([0.91729635, 0.90095133, 0.89647184, 0.83461888, 0.90025753])"
      ]
     },
     "execution_count": 48,
     "metadata": {},
     "output_type": "execute_result"
    }
   ],
   "source": [
    "from sklearn.model_selection import ShuffleSplit\n",
    "from sklearn.model_selection import cross_val_score\n",
    "\n",
    "cv = ShuffleSplit(n_splits=5, test_size=0.2, random_state=0)\n",
    "\n",
    "cross_val_score(LinearRegression(),X,y,cv=cv)"
   ]
  },
  {
   "cell_type": "code",
   "execution_count": 49,
   "metadata": {
    "colab": {
     "base_uri": "https://localhost:8080/",
     "height": 321
    },
    "id": "-oTlzmiWl78b",
    "outputId": "eb60c943-6292-43c4-eeea-25f4ff7aa7a4",
    "vscode": {
     "languageId": "javascript"
    }
   },
   "outputs": [
    {
     "name": "stderr",
     "output_type": "stream",
     "text": [
      "C:\\Anaconda\\lib\\site-packages\\sklearn\\linear_model\\_base.py:141: FutureWarning: 'normalize' was deprecated in version 1.0 and will be removed in 1.2.\n",
      "If you wish to scale the data, use Pipeline with a StandardScaler in a preprocessing stage. To reproduce the previous behavior:\n",
      "\n",
      "from sklearn.pipeline import make_pipeline\n",
      "\n",
      "model = make_pipeline(StandardScaler(with_mean=False), LinearRegression())\n",
      "\n",
      "If you wish to pass a sample_weight parameter, you need to pass it as a fit parameter to each step of the pipeline as follows:\n",
      "\n",
      "kwargs = {s[0] + '__sample_weight': sample_weight for s in model.steps}\n",
      "model.fit(X, y, **kwargs)\n",
      "\n",
      "\n",
      "  warnings.warn(\n",
      "C:\\Anaconda\\lib\\site-packages\\sklearn\\linear_model\\_base.py:141: FutureWarning: 'normalize' was deprecated in version 1.0 and will be removed in 1.2.\n",
      "If you wish to scale the data, use Pipeline with a StandardScaler in a preprocessing stage. To reproduce the previous behavior:\n",
      "\n",
      "from sklearn.pipeline import make_pipeline\n",
      "\n",
      "model = make_pipeline(StandardScaler(with_mean=False), LinearRegression())\n",
      "\n",
      "If you wish to pass a sample_weight parameter, you need to pass it as a fit parameter to each step of the pipeline as follows:\n",
      "\n",
      "kwargs = {s[0] + '__sample_weight': sample_weight for s in model.steps}\n",
      "model.fit(X, y, **kwargs)\n",
      "\n",
      "\n",
      "  warnings.warn(\n",
      "C:\\Anaconda\\lib\\site-packages\\sklearn\\linear_model\\_base.py:141: FutureWarning: 'normalize' was deprecated in version 1.0 and will be removed in 1.2.\n",
      "If you wish to scale the data, use Pipeline with a StandardScaler in a preprocessing stage. To reproduce the previous behavior:\n",
      "\n",
      "from sklearn.pipeline import make_pipeline\n",
      "\n",
      "model = make_pipeline(StandardScaler(with_mean=False), LinearRegression())\n",
      "\n",
      "If you wish to pass a sample_weight parameter, you need to pass it as a fit parameter to each step of the pipeline as follows:\n",
      "\n",
      "kwargs = {s[0] + '__sample_weight': sample_weight for s in model.steps}\n",
      "model.fit(X, y, **kwargs)\n",
      "\n",
      "\n",
      "  warnings.warn(\n",
      "C:\\Anaconda\\lib\\site-packages\\sklearn\\linear_model\\_base.py:141: FutureWarning: 'normalize' was deprecated in version 1.0 and will be removed in 1.2.\n",
      "If you wish to scale the data, use Pipeline with a StandardScaler in a preprocessing stage. To reproduce the previous behavior:\n",
      "\n",
      "from sklearn.pipeline import make_pipeline\n",
      "\n",
      "model = make_pipeline(StandardScaler(with_mean=False), LinearRegression())\n",
      "\n",
      "If you wish to pass a sample_weight parameter, you need to pass it as a fit parameter to each step of the pipeline as follows:\n",
      "\n",
      "kwargs = {s[0] + '__sample_weight': sample_weight for s in model.steps}\n",
      "model.fit(X, y, **kwargs)\n",
      "\n",
      "\n",
      "  warnings.warn(\n",
      "C:\\Anaconda\\lib\\site-packages\\sklearn\\linear_model\\_base.py:141: FutureWarning: 'normalize' was deprecated in version 1.0 and will be removed in 1.2.\n",
      "If you wish to scale the data, use Pipeline with a StandardScaler in a preprocessing stage. To reproduce the previous behavior:\n",
      "\n",
      "from sklearn.pipeline import make_pipeline\n",
      "\n",
      "model = make_pipeline(StandardScaler(with_mean=False), LinearRegression())\n",
      "\n",
      "If you wish to pass a sample_weight parameter, you need to pass it as a fit parameter to each step of the pipeline as follows:\n",
      "\n",
      "kwargs = {s[0] + '__sample_weight': sample_weight for s in model.steps}\n",
      "model.fit(X, y, **kwargs)\n",
      "\n",
      "\n",
      "  warnings.warn(\n",
      "C:\\Anaconda\\lib\\site-packages\\sklearn\\linear_model\\_base.py:148: FutureWarning: 'normalize' was deprecated in version 1.0 and will be removed in 1.2. Please leave the normalize parameter to its default value to silence this warning. The default behavior of this estimator is to not do any normalization. If normalization is needed please use sklearn.preprocessing.StandardScaler instead.\n",
      "  warnings.warn(\n",
      "C:\\Anaconda\\lib\\site-packages\\sklearn\\linear_model\\_base.py:148: FutureWarning: 'normalize' was deprecated in version 1.0 and will be removed in 1.2. Please leave the normalize parameter to its default value to silence this warning. The default behavior of this estimator is to not do any normalization. If normalization is needed please use sklearn.preprocessing.StandardScaler instead.\n",
      "  warnings.warn(\n",
      "C:\\Anaconda\\lib\\site-packages\\sklearn\\linear_model\\_base.py:148: FutureWarning: 'normalize' was deprecated in version 1.0 and will be removed in 1.2. Please leave the normalize parameter to its default value to silence this warning. The default behavior of this estimator is to not do any normalization. If normalization is needed please use sklearn.preprocessing.StandardScaler instead.\n",
      "  warnings.warn(\n",
      "C:\\Anaconda\\lib\\site-packages\\sklearn\\linear_model\\_base.py:148: FutureWarning: 'normalize' was deprecated in version 1.0 and will be removed in 1.2. Please leave the normalize parameter to its default value to silence this warning. The default behavior of this estimator is to not do any normalization. If normalization is needed please use sklearn.preprocessing.StandardScaler instead.\n",
      "  warnings.warn(\n",
      "C:\\Anaconda\\lib\\site-packages\\sklearn\\linear_model\\_base.py:148: FutureWarning: 'normalize' was deprecated in version 1.0 and will be removed in 1.2. Please leave the normalize parameter to its default value to silence this warning. The default behavior of this estimator is to not do any normalization. If normalization is needed please use sklearn.preprocessing.StandardScaler instead.\n",
      "  warnings.warn(\n",
      "C:\\Anaconda\\lib\\site-packages\\sklearn\\linear_model\\_base.py:141: FutureWarning: 'normalize' was deprecated in version 1.0 and will be removed in 1.2.\n",
      "If you wish to scale the data, use Pipeline with a StandardScaler in a preprocessing stage. To reproduce the previous behavior:\n",
      "\n",
      "from sklearn.pipeline import make_pipeline\n",
      "\n",
      "model = make_pipeline(StandardScaler(with_mean=False), LinearRegression())\n",
      "\n",
      "If you wish to pass a sample_weight parameter, you need to pass it as a fit parameter to each step of the pipeline as follows:\n",
      "\n",
      "kwargs = {s[0] + '__sample_weight': sample_weight for s in model.steps}\n",
      "model.fit(X, y, **kwargs)\n",
      "\n",
      "\n",
      "  warnings.warn(\n",
      "C:\\Anaconda\\lib\\site-packages\\sklearn\\tree\\_classes.py:359: FutureWarning: Criterion 'mse' was deprecated in v1.0 and will be removed in version 1.2. Use `criterion='squared_error'` which is equivalent.\n",
      "  warnings.warn(\n",
      "C:\\Anaconda\\lib\\site-packages\\sklearn\\tree\\_classes.py:359: FutureWarning: Criterion 'mse' was deprecated in v1.0 and will be removed in version 1.2. Use `criterion='squared_error'` which is equivalent.\n",
      "  warnings.warn(\n",
      "C:\\Anaconda\\lib\\site-packages\\sklearn\\tree\\_classes.py:359: FutureWarning: Criterion 'mse' was deprecated in v1.0 and will be removed in version 1.2. Use `criterion='squared_error'` which is equivalent.\n",
      "  warnings.warn(\n",
      "C:\\Anaconda\\lib\\site-packages\\sklearn\\tree\\_classes.py:359: FutureWarning: Criterion 'mse' was deprecated in v1.0 and will be removed in version 1.2. Use `criterion='squared_error'` which is equivalent.\n",
      "  warnings.warn(\n",
      "C:\\Anaconda\\lib\\site-packages\\sklearn\\tree\\_classes.py:359: FutureWarning: Criterion 'mse' was deprecated in v1.0 and will be removed in version 1.2. Use `criterion='squared_error'` which is equivalent.\n",
      "  warnings.warn(\n",
      "C:\\Anaconda\\lib\\site-packages\\sklearn\\tree\\_classes.py:359: FutureWarning: Criterion 'mse' was deprecated in v1.0 and will be removed in version 1.2. Use `criterion='squared_error'` which is equivalent.\n",
      "  warnings.warn(\n",
      "C:\\Anaconda\\lib\\site-packages\\sklearn\\tree\\_classes.py:359: FutureWarning: Criterion 'mse' was deprecated in v1.0 and will be removed in version 1.2. Use `criterion='squared_error'` which is equivalent.\n",
      "  warnings.warn(\n",
      "C:\\Anaconda\\lib\\site-packages\\sklearn\\tree\\_classes.py:359: FutureWarning: Criterion 'mse' was deprecated in v1.0 and will be removed in version 1.2. Use `criterion='squared_error'` which is equivalent.\n",
      "  warnings.warn(\n",
      "C:\\Anaconda\\lib\\site-packages\\sklearn\\tree\\_classes.py:359: FutureWarning: Criterion 'mse' was deprecated in v1.0 and will be removed in version 1.2. Use `criterion='squared_error'` which is equivalent.\n",
      "  warnings.warn(\n",
      "C:\\Anaconda\\lib\\site-packages\\sklearn\\tree\\_classes.py:359: FutureWarning: Criterion 'mse' was deprecated in v1.0 and will be removed in version 1.2. Use `criterion='squared_error'` which is equivalent.\n",
      "  warnings.warn(\n",
      "C:\\Anaconda\\lib\\site-packages\\sklearn\\tree\\_classes.py:359: FutureWarning: Criterion 'mse' was deprecated in v1.0 and will be removed in version 1.2. Use `criterion='squared_error'` which is equivalent.\n",
      "  warnings.warn(\n"
     ]
    },
    {
     "data": {
      "text/html": [
       "<div>\n",
       "<style scoped>\n",
       "    .dataframe tbody tr th:only-of-type {\n",
       "        vertical-align: middle;\n",
       "    }\n",
       "\n",
       "    .dataframe tbody tr th {\n",
       "        vertical-align: top;\n",
       "    }\n",
       "\n",
       "    .dataframe thead th {\n",
       "        text-align: right;\n",
       "    }\n",
       "</style>\n",
       "<table border=\"1\" class=\"dataframe\">\n",
       "  <thead>\n",
       "    <tr style=\"text-align: right;\">\n",
       "      <th></th>\n",
       "      <th>model</th>\n",
       "      <th>best_score</th>\n",
       "      <th>best_params</th>\n",
       "    </tr>\n",
       "  </thead>\n",
       "  <tbody>\n",
       "    <tr>\n",
       "      <th>0</th>\n",
       "      <td>linear_regression</td>\n",
       "      <td>0.889919</td>\n",
       "      <td>{'normalize': True}</td>\n",
       "    </tr>\n",
       "    <tr>\n",
       "      <th>1</th>\n",
       "      <td>lasso</td>\n",
       "      <td>0.865799</td>\n",
       "      <td>{'alpha': 2, 'selection': 'random'}</td>\n",
       "    </tr>\n",
       "    <tr>\n",
       "      <th>2</th>\n",
       "      <td>decision_tree</td>\n",
       "      <td>0.848051</td>\n",
       "      <td>{'criterion': 'mse', 'splitter': 'random'}</td>\n",
       "    </tr>\n",
       "  </tbody>\n",
       "</table>\n",
       "</div>"
      ],
      "text/plain": [
       "               model  best_score                                 best_params\n",
       "0  linear_regression    0.889919                         {'normalize': True}\n",
       "1              lasso    0.865799         {'alpha': 2, 'selection': 'random'}\n",
       "2      decision_tree    0.848051  {'criterion': 'mse', 'splitter': 'random'}"
      ]
     },
     "execution_count": 49,
     "metadata": {},
     "output_type": "execute_result"
    }
   ],
   "source": [
    "from sklearn.model_selection import GridSearchCV\n",
    "from sklearn.linear_model import LinearRegression\n",
    "from sklearn.linear_model import Lasso\n",
    "from sklearn.tree import DecisionTreeRegressor\n",
    "\n",
    "def find_best_model_using_gridsearchcv(X,y):\n",
    "    algos = {\n",
    "            'linear_regression' : {\n",
    "            'model': LinearRegression(),\n",
    "            'params': {\n",
    "                'normalize': [True, False]\n",
    "            }\n",
    "        },\n",
    "        'lasso': {\n",
    "            'model': Lasso(),\n",
    "            'params': {\n",
    "                'alpha': [1,2],\n",
    "                'selection': ['random', 'cyclic']\n",
    "            }\n",
    "        },\n",
    "        'decision_tree': {\n",
    "            'model': DecisionTreeRegressor(),\n",
    "            'params': {\n",
    "                'criterion' : ['mse','friedman_mse'],\n",
    "                'splitter': ['best','random']\n",
    "            }\n",
    "        }\n",
    "    }\n",
    "    scores = []\n",
    "    cv = ShuffleSplit(n_splits=5, test_size=0.2, random_state=0)\n",
    "    for algo_name, config in algos.items():\n",
    "        gs =  GridSearchCV(config['model'], config['params'], cv=cv, return_train_score=False)\n",
    "        gs.fit(X,y)\n",
    "        scores.append({\n",
    "            'model': algo_name,\n",
    "            'best_score': gs.best_score_,\n",
    "            'best_params': gs.best_params_\n",
    "        })\n",
    "\n",
    "    return pd.DataFrame(scores,columns=['model','best_score','best_params'])\n",
    "\n",
    "find_best_model_using_gridsearchcv(X,y)"
   ]
  },
  {
   "cell_type": "code",
   "execution_count": 50,
   "metadata": {},
   "outputs": [
    {
     "data": {
      "text/plain": [
       "0.8676923580172581"
      ]
     },
     "execution_count": 50,
     "metadata": {},
     "output_type": "execute_result"
    }
   ],
   "source": [
    "from sklearn.tree import DecisionTreeRegressor\n",
    "dcs_clf = DecisionTreeRegressor()\n",
    "dcs_clf.fit(X_train,y_train)\n",
    "dcs_clf.score(X_test,y_test)"
   ]
  },
  {
   "cell_type": "code",
   "execution_count": 51,
   "metadata": {},
   "outputs": [
    {
     "data": {
      "text/plain": [
       "array([0.90340641, 0.86168117, 0.90489512, 0.75012205, 0.67970632])"
      ]
     },
     "execution_count": 51,
     "metadata": {},
     "output_type": "execute_result"
    }
   ],
   "source": [
    "from sklearn.model_selection import ShuffleSplit\n",
    "from sklearn.model_selection import cross_val_score\n",
    "\n",
    "cv = ShuffleSplit(n_splits=5, test_size=0.2, random_state=0)\n",
    "\n",
    "cross_val_score(DecisionTreeRegressor(),X,y,cv=cv)"
   ]
  },
  {
   "cell_type": "code",
   "execution_count": 52,
   "metadata": {
    "vscode": {
     "languageId": "javascript"
    }
   },
   "outputs": [],
   "source": [
    "def predict_price_lr(location,sqft,bhk):    \n",
    "    loc_index = np.where(X.columns==location)[0][0]\n",
    "\n",
    "    x = np.zeros(len(X.columns))\n",
    "    x[0] = bhk\n",
    "    x[1] = sqft\n",
    "    if loc_index >= 0:\n",
    "        x[loc_index] = 1\n",
    "\n",
    "    return lr_clf.predict([x])[0]"
   ]
  },
  {
   "cell_type": "code",
   "execution_count": 53,
   "metadata": {},
   "outputs": [],
   "source": [
    "def predict_price_dcs(location,sqft,bhk):    \n",
    "    loc_index = np.where(X.columns==location)[0][0]\n",
    "\n",
    "    x = np.zeros(len(X.columns))\n",
    "    x[0] = bhk\n",
    "    x[1] = sqft\n",
    "    if loc_index >= 0:\n",
    "        x[loc_index] = 1\n",
    "\n",
    "    return dcs_clf.predict([x])[0]"
   ]
  },
  {
   "cell_type": "code",
   "execution_count": 54,
   "metadata": {
    "vscode": {
     "languageId": "javascript"
    }
   },
   "outputs": [
    {
     "name": "stderr",
     "output_type": "stream",
     "text": [
      "C:\\Anaconda\\lib\\site-packages\\sklearn\\base.py:450: UserWarning: X does not have valid feature names, but LinearRegression was fitted with feature names\n",
      "  warnings.warn(\n"
     ]
    },
    {
     "data": {
      "text/plain": [
       "159.45757102955295"
      ]
     },
     "execution_count": 54,
     "metadata": {},
     "output_type": "execute_result"
    }
   ],
   "source": [
    "predict_price_lr('Wadala, Nashik, Maharashtra',4000,2)"
   ]
  },
  {
   "cell_type": "code",
   "execution_count": 55,
   "metadata": {
    "scrolled": true,
    "vscode": {
     "languageId": "javascript"
    }
   },
   "outputs": [
    {
     "name": "stderr",
     "output_type": "stream",
     "text": [
      "C:\\Anaconda\\lib\\site-packages\\sklearn\\base.py:450: UserWarning: X does not have valid feature names, but DecisionTreeRegressor was fitted with feature names\n",
      "  warnings.warn(\n"
     ]
    },
    {
     "data": {
      "text/plain": [
       "150.0"
      ]
     },
     "execution_count": 55,
     "metadata": {},
     "output_type": "execute_result"
    }
   ],
   "source": [
    "predict_price_dcs('Wadala, Nashik, Maharashtra',4000,2)\n"
   ]
  },
  {
   "cell_type": "code",
   "execution_count": 57,
   "metadata": {},
   "outputs": [],
   "source": [
    "import pickle\n",
    "with open('nashik_apartment_prices_model.pickle','wb') as f:\n",
    "    pickle.dump(lr_clf,f)"
   ]
  },
  {
   "cell_type": "code",
   "execution_count": 58,
   "metadata": {},
   "outputs": [],
   "source": [
    "import json\n",
    "columns = {\n",
    "    'data_columns' : [col.lower() for col in X.columns]\n",
    "}\n",
    "with open(\"columns.json\",\"w\") as f:\n",
    "    f.write(json.dumps(columns))"
   ]
  }
 ],
 "metadata": {
  "colab": {
   "provenance": []
  },
  "kernelspec": {
   "display_name": "Python 3 (ipykernel)",
   "language": "python",
   "name": "python3"
  },
  "language_info": {
   "codemirror_mode": {
    "name": "ipython",
    "version": 3
   },
   "file_extension": ".py",
   "mimetype": "text/x-python",
   "name": "python",
   "nbconvert_exporter": "python",
   "pygments_lexer": "ipython3",
   "version": "3.10.5 (tags/v3.10.5:f377153, Jun  6 2022, 16:14:13) [MSC v.1929 64 bit (AMD64)]"
  },
  "nteract": {
   "version": "0.28.0"
  },
  "vscode": {
   "interpreter": {
    "hash": "dd4523786bfb584469b8fd0755bf7b85fda895298e55f9f779c22370e11b6eee"
   }
  }
 },
 "nbformat": 4,
 "nbformat_minor": 1
}
